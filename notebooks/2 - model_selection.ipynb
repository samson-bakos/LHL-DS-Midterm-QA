{
 "cells": [
  {
   "cell_type": "markdown",
   "metadata": {},
   "source": [
    "This notebook should include preliminary and baseline modeling.\n",
    "- Try as many different models as possible.\n",
    "- Don't worry about hyperparameter tuning or cross validation here.\n",
    "- Ideas include:\n",
    "    - linear regression\n",
    "    - support vector machines\n",
    "    - random forest\n",
    "    - xgboost"
   ]
  },
  {
   "cell_type": "code",
   "execution_count": 1,
   "metadata": {},
   "outputs": [],
   "source": [
    "from sklearn.linear_model import Ridge\n",
    "from sklearn.svm import SVR\n",
    "from sklearn.ensemble import RandomForestRegressor\n",
    "from sklearn.ensemble import GradientBoostingRegressor\n",
    "import pandas as pd\n",
    "import numpy as np\n"
   ]
  },
  {
   "cell_type": "code",
   "execution_count": 2,
   "metadata": {},
   "outputs": [],
   "source": [
    "X_train = pd.read_csv(\"../data/X_train.csv\")\n",
    "X_test = pd.read_csv(\"../data/X_test.csv\")\n",
    "y_train = np.array(pd.read_csv(\"../data/y_train.csv\")).reshape(-1)\n",
    "y_test = np.array(pd.read_csv(\"../data/y_test.csv\")).reshape(-1)\n",
    "\n",
    "ridge = Ridge().fit(X_train, y_train)\n",
    "supp_vec = SVR().fit(X_train, y_train)\n",
    "rf = RandomForestRegressor().fit(X_train, y_train)\n",
    "grad = GradientBoostingRegressor().fit(X_train, y_train)\n"
   ]
  },
  {
   "cell_type": "markdown",
   "metadata": {},
   "source": [
    "Consider what metrics you want to use to evaluate success.\n",
    "- If you think about mean squared error, can we actually relate to the amount of error?\n",
    "- Try root mean squared error so that error is closer to the original units (dollars)\n",
    "- What does RMSE do to outliers?\n",
    "- Is mean absolute error a good metric for this problem?\n",
    "- What about R^2? Adjusted R^2?\n",
    "- Briefly describe your reasons for picking the metrics you use"
   ]
  },
  {
   "cell_type": "code",
   "execution_count": 3,
   "metadata": {},
   "outputs": [],
   "source": [
    "from sklearn.metrics import mean_absolute_error, mean_squared_error, r2_score"
   ]
  },
  {
   "cell_type": "code",
   "execution_count": 4,
   "metadata": {},
   "outputs": [],
   "source": [
    "y_test = np.exp(y_test)"
   ]
  },
  {
   "cell_type": "code",
   "execution_count": 5,
   "metadata": {},
   "outputs": [],
   "source": [
    "ridge_pred = np.exp(ridge.predict(X_test))\n",
    "supp_vec_pred = np.exp(supp_vec.predict(X_test))\n",
    "rf_pred = np.exp(rf.predict(X_test))\n",
    "grad_pred = np.exp(grad.predict(X_test))"
   ]
  },
  {
   "cell_type": "code",
   "execution_count": 6,
   "metadata": {},
   "outputs": [],
   "source": [
    "metrics = {}\n",
    "\n",
    "predictions = {'Ridge Regression': ridge_pred,\n",
    "               'SVR': supp_vec_pred,\n",
    "               'Random Forest': rf_pred,\n",
    "               'Gradient Boosting': grad_pred}\n",
    "\n",
    "n = len(y_test)\n",
    "\n",
    "for model_name, y_pred in predictions.items():\n",
    "    mse = mean_squared_error(y_test, y_pred)\n",
    "    rmse = np.sqrt(mse)\n",
    "    mae = mean_absolute_error(y_test, y_pred)\n",
    "    r2 = r2_score(y_test, y_pred)\n",
    "    p = X_test.shape[1]\n",
    "    adj_r2 = 1 - (1 - r2) * (n - 1) / (n - p - 1)\n",
    "    \n",
    "    metrics[model_name] = {'MSE': mse,\n",
    "                           'RMSE': rmse,\n",
    "                           'MAE': mae,\n",
    "                           'R-squared': r2,\n",
    "                           'Adjusted R-squared': adj_r2}\n",
    "\n",
    "\n"
   ]
  },
  {
   "cell_type": "code",
   "execution_count": 9,
   "metadata": {},
   "outputs": [
    {
     "data": {
      "text/html": [
       "<div>\n",
       "<style scoped>\n",
       "    .dataframe tbody tr th:only-of-type {\n",
       "        vertical-align: middle;\n",
       "    }\n",
       "\n",
       "    .dataframe tbody tr th {\n",
       "        vertical-align: top;\n",
       "    }\n",
       "\n",
       "    .dataframe thead th {\n",
       "        text-align: right;\n",
       "    }\n",
       "</style>\n",
       "<table border=\"1\" class=\"dataframe\">\n",
       "  <thead>\n",
       "    <tr style=\"text-align: right;\">\n",
       "      <th></th>\n",
       "      <th>Ridge Regression</th>\n",
       "      <th>SVR</th>\n",
       "      <th>Random Forest</th>\n",
       "      <th>Gradient Boosting</th>\n",
       "    </tr>\n",
       "  </thead>\n",
       "  <tbody>\n",
       "    <tr>\n",
       "      <th>MSE</th>\n",
       "      <td>2.29e+11</td>\n",
       "      <td>1.04e+11</td>\n",
       "      <td>1.11e+10</td>\n",
       "      <td>3.69e+10</td>\n",
       "    </tr>\n",
       "    <tr>\n",
       "      <th>RMSE</th>\n",
       "      <td>4.79e+05</td>\n",
       "      <td>3.22e+05</td>\n",
       "      <td>1.05e+05</td>\n",
       "      <td>1.92e+05</td>\n",
       "    </tr>\n",
       "    <tr>\n",
       "      <th>MAE</th>\n",
       "      <td>1.28e+05</td>\n",
       "      <td>6.38e+04</td>\n",
       "      <td>1.40e+04</td>\n",
       "      <td>7.66e+04</td>\n",
       "    </tr>\n",
       "    <tr>\n",
       "      <th>R-squared</th>\n",
       "      <td>4.45e-01</td>\n",
       "      <td>7.48e-01</td>\n",
       "      <td>9.73e-01</td>\n",
       "      <td>9.11e-01</td>\n",
       "    </tr>\n",
       "    <tr>\n",
       "      <th>Adjusted R-squared</th>\n",
       "      <td>4.14e-01</td>\n",
       "      <td>7.34e-01</td>\n",
       "      <td>9.72e-01</td>\n",
       "      <td>9.05e-01</td>\n",
       "    </tr>\n",
       "  </tbody>\n",
       "</table>\n",
       "</div>"
      ],
      "text/plain": [
       "                   Ridge Regression       SVR Random Forest Gradient Boosting\n",
       "MSE                        2.29e+11  1.04e+11      1.11e+10          3.69e+10\n",
       "RMSE                       4.79e+05  3.22e+05      1.05e+05          1.92e+05\n",
       "MAE                        1.28e+05  6.38e+04      1.40e+04          7.66e+04\n",
       "R-squared                  4.45e-01  7.48e-01      9.73e-01          9.11e-01\n",
       "Adjusted R-squared         4.14e-01  7.34e-01      9.72e-01          9.05e-01"
      ]
     },
     "execution_count": 9,
     "metadata": {},
     "output_type": "execute_result"
    }
   ],
   "source": [
    "metrics_df = pd.DataFrame(metrics).applymap(lambda x: \"{:.2e}\".format(x))\n",
    "metrics_df\n"
   ]
  },
  {
   "cell_type": "code",
   "execution_count": 12,
   "metadata": {},
   "outputs": [],
   "source": [
    "# Random forest wins on every metric and it isn't close\n",
    "# Mean absolute error may be the best single metric here because it represents an actual cash error\n",
    "# While being less skewed by outliers like RMSE"
   ]
  },
  {
   "cell_type": "code",
   "execution_count": null,
   "metadata": {},
   "outputs": [],
   "source": []
  }
 ],
 "metadata": {
  "kernelspec": {
   "display_name": "Python 3",
   "language": "python",
   "name": "python3"
  },
  "language_info": {
   "codemirror_mode": {
    "name": "ipython",
    "version": 3
   },
   "file_extension": ".py",
   "mimetype": "text/x-python",
   "name": "python",
   "nbconvert_exporter": "python",
   "pygments_lexer": "ipython3",
   "version": "3.10.6"
  }
 },
 "nbformat": 4,
 "nbformat_minor": 2
}
