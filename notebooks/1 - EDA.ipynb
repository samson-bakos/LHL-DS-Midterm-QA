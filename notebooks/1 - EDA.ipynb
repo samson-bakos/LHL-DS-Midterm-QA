{
 "cells": [
  {
   "cell_type": "markdown",
   "metadata": {},
   "source": [
    "\n",
    "- The os module has a perfect method to list files in a directory.\n",
    "- Pandas json normalize could work here but is not necessary to convert the JSON data to a dataframe.\n",
    "- You may need a nested for-loop to access each sale!\n",
    "- We've put a lot of time into creating the structure of this repository, and it's a good example for future projects.  In the file functions_variables.py, there is an example function that you can import and use.  If you have any variables, functions or classes that you want to make, they can be put in the functions_variables.py file and imported into a notebook.  Note that only .py files can be imported into a notebook. If you want to import everything from a .py file, you can use the following:\n",
    "```python\n",
    "from functions_variables import *\n",
    "```\n",
    "If you just import functions_variables, then each object from the file will need to be prepended with \"functions_variables\"\\\n",
    "Using this .py file will keep your notebooks very organized and make it easier to reuse code between notebooks."
   ]
  },
  {
   "cell_type": "code",
   "execution_count": 1,
   "metadata": {},
   "outputs": [],
   "source": [
    "# (this is not an exhaustive list of libraries)\n",
    "import pandas as pd\n",
    "import numpy as np\n",
    "import os\n",
    "import json\n",
    "from pprint import pprint\n",
    "from functions_variables import encode_tags"
   ]
  },
  {
   "cell_type": "code",
   "execution_count": 2,
   "metadata": {},
   "outputs": [
    {
     "data": {
      "text/html": [
       "<div>\n",
       "<style scoped>\n",
       "    .dataframe tbody tr th:only-of-type {\n",
       "        vertical-align: middle;\n",
       "    }\n",
       "\n",
       "    .dataframe tbody tr th {\n",
       "        vertical-align: top;\n",
       "    }\n",
       "\n",
       "    .dataframe thead th {\n",
       "        text-align: right;\n",
       "    }\n",
       "</style>\n",
       "<table border=\"1\" class=\"dataframe\">\n",
       "  <thead>\n",
       "    <tr style=\"text-align: right;\">\n",
       "      <th></th>\n",
       "      <th>last_update_date</th>\n",
       "      <th>tags</th>\n",
       "      <th>permalink</th>\n",
       "      <th>status</th>\n",
       "      <th>list_date</th>\n",
       "      <th>open_houses</th>\n",
       "      <th>branding</th>\n",
       "      <th>list_price</th>\n",
       "      <th>property_id</th>\n",
       "      <th>photos</th>\n",
       "      <th>...</th>\n",
       "      <th>location.address.state_code</th>\n",
       "      <th>location.address.line</th>\n",
       "      <th>location.street_view_url</th>\n",
       "      <th>location.county.fips_code</th>\n",
       "      <th>location.county.name</th>\n",
       "      <th>primary_photo</th>\n",
       "      <th>source</th>\n",
       "      <th>products</th>\n",
       "      <th>location.address.coordinate</th>\n",
       "      <th>other_listings</th>\n",
       "    </tr>\n",
       "  </thead>\n",
       "  <tbody>\n",
       "    <tr>\n",
       "      <th>0</th>\n",
       "      <td>2023-09-19T20:52:50Z</td>\n",
       "      <td>[carport, community_outdoor_space, cul_de_sac,...</td>\n",
       "      <td>9453-Herbert-Pl_Juneau_AK_99801_M90744-30767</td>\n",
       "      <td>sold</td>\n",
       "      <td>2023-06-29T21:16:25.000000Z</td>\n",
       "      <td>None</td>\n",
       "      <td>[{'name': 'EXP Realty LLC - Southeast Alaska',...</td>\n",
       "      <td>554950.0</td>\n",
       "      <td>9074430767</td>\n",
       "      <td>[{'tags': [{'label': 'house_view', 'probabilit...</td>\n",
       "      <td>...</td>\n",
       "      <td>AK</td>\n",
       "      <td>9453 Herbert Pl</td>\n",
       "      <td>https://maps.googleapis.com/maps/api/streetvie...</td>\n",
       "      <td>None</td>\n",
       "      <td>Juneau</td>\n",
       "      <td>NaN</td>\n",
       "      <td>NaN</td>\n",
       "      <td>NaN</td>\n",
       "      <td>NaN</td>\n",
       "      <td>NaN</td>\n",
       "    </tr>\n",
       "    <tr>\n",
       "      <th>1</th>\n",
       "      <td>None</td>\n",
       "      <td>None</td>\n",
       "      <td>8477-Thunder-Mountain-Rd_Juneau_AK_99801_M9424...</td>\n",
       "      <td>sold</td>\n",
       "      <td>None</td>\n",
       "      <td>None</td>\n",
       "      <td>[{'name': None, 'photo': None, 'type': 'Office'}]</td>\n",
       "      <td>NaN</td>\n",
       "      <td>9424983842</td>\n",
       "      <td>None</td>\n",
       "      <td>...</td>\n",
       "      <td>AK</td>\n",
       "      <td>8477 Thunder Mountain Rd</td>\n",
       "      <td>https://maps.googleapis.com/maps/api/streetvie...</td>\n",
       "      <td>None</td>\n",
       "      <td>Juneau</td>\n",
       "      <td>NaN</td>\n",
       "      <td>NaN</td>\n",
       "      <td>NaN</td>\n",
       "      <td>NaN</td>\n",
       "      <td>NaN</td>\n",
       "    </tr>\n",
       "    <tr>\n",
       "      <th>2</th>\n",
       "      <td>None</td>\n",
       "      <td>None</td>\n",
       "      <td>4515-Glacier-Hwy_Juneau_AK_99801_M94790-68516</td>\n",
       "      <td>sold</td>\n",
       "      <td>None</td>\n",
       "      <td>None</td>\n",
       "      <td>[{'name': None, 'photo': None, 'type': 'Office'}]</td>\n",
       "      <td>NaN</td>\n",
       "      <td>9479068516</td>\n",
       "      <td>None</td>\n",
       "      <td>...</td>\n",
       "      <td>AK</td>\n",
       "      <td>4515 Glacier Hwy</td>\n",
       "      <td>https://maps.googleapis.com/maps/api/streetvie...</td>\n",
       "      <td>None</td>\n",
       "      <td>Juneau</td>\n",
       "      <td>NaN</td>\n",
       "      <td>NaN</td>\n",
       "      <td>NaN</td>\n",
       "      <td>NaN</td>\n",
       "      <td>NaN</td>\n",
       "    </tr>\n",
       "  </tbody>\n",
       "</table>\n",
       "<p>3 rows × 64 columns</p>\n",
       "</div>"
      ],
      "text/plain": [
       "       last_update_date                                               tags  \\\n",
       "0  2023-09-19T20:52:50Z  [carport, community_outdoor_space, cul_de_sac,...   \n",
       "1                  None                                               None   \n",
       "2                  None                                               None   \n",
       "\n",
       "                                           permalink status  \\\n",
       "0       9453-Herbert-Pl_Juneau_AK_99801_M90744-30767   sold   \n",
       "1  8477-Thunder-Mountain-Rd_Juneau_AK_99801_M9424...   sold   \n",
       "2      4515-Glacier-Hwy_Juneau_AK_99801_M94790-68516   sold   \n",
       "\n",
       "                     list_date open_houses  \\\n",
       "0  2023-06-29T21:16:25.000000Z        None   \n",
       "1                         None        None   \n",
       "2                         None        None   \n",
       "\n",
       "                                            branding  list_price property_id  \\\n",
       "0  [{'name': 'EXP Realty LLC - Southeast Alaska',...    554950.0  9074430767   \n",
       "1  [{'name': None, 'photo': None, 'type': 'Office'}]         NaN  9424983842   \n",
       "2  [{'name': None, 'photo': None, 'type': 'Office'}]         NaN  9479068516   \n",
       "\n",
       "                                              photos  ...  \\\n",
       "0  [{'tags': [{'label': 'house_view', 'probabilit...  ...   \n",
       "1                                               None  ...   \n",
       "2                                               None  ...   \n",
       "\n",
       "  location.address.state_code     location.address.line  \\\n",
       "0                          AK           9453 Herbert Pl   \n",
       "1                          AK  8477 Thunder Mountain Rd   \n",
       "2                          AK          4515 Glacier Hwy   \n",
       "\n",
       "                            location.street_view_url  \\\n",
       "0  https://maps.googleapis.com/maps/api/streetvie...   \n",
       "1  https://maps.googleapis.com/maps/api/streetvie...   \n",
       "2  https://maps.googleapis.com/maps/api/streetvie...   \n",
       "\n",
       "   location.county.fips_code  location.county.name primary_photo  source  \\\n",
       "0                       None                Juneau           NaN     NaN   \n",
       "1                       None                Juneau           NaN     NaN   \n",
       "2                       None                Juneau           NaN     NaN   \n",
       "\n",
       "  products  location.address.coordinate other_listings  \n",
       "0      NaN                          NaN            NaN  \n",
       "1      NaN                          NaN            NaN  \n",
       "2      NaN                          NaN            NaN  \n",
       "\n",
       "[3 rows x 64 columns]"
      ]
     },
     "execution_count": 2,
     "metadata": {},
     "output_type": "execute_result"
    }
   ],
   "source": [
    "# load one file first to see what type of data you're dealing with and what attributes it has\n",
    "\n",
    "directory = '../data/'\n",
    "\n",
    "with open(f'{directory}AK_Juneau_0.json') as f:\n",
    "    jsonfile = json.load(f)\n",
    "\n",
    "testcity = pd.json_normalize(jsonfile['data']['results']).head(3)\n",
    "\n",
    "jsoncolumns = testcity.columns\n",
    "\n",
    "testcity"
   ]
  },
  {
   "cell_type": "code",
   "execution_count": 3,
   "metadata": {},
   "outputs": [
    {
     "data": {
      "text/plain": [
       "(8191, 67)"
      ]
     },
     "execution_count": 3,
     "metadata": {},
     "output_type": "execute_result"
    }
   ],
   "source": [
    "import warnings\n",
    "\n",
    "df = pd.DataFrame(columns= jsoncolumns)\n",
    "\n",
    "json_files = [file for file in os.listdir(directory) if file.endswith('.json')]\n",
    "\n",
    "for file in json_files:\n",
    "    file_path = os.path.join(directory, file)\n",
    "    json_subfile = pd.read_json(file_path)\n",
    "    json_subdf = pd.json_normalize(json_subfile['data']['results'])\n",
    "    with warnings.catch_warnings():\n",
    "        warnings.simplefilter(\"ignore\")\n",
    "        df = pd.concat([df, json_subdf], ignore_index=True)\n",
    "    \n",
    "df.shape"
   ]
  },
  {
   "cell_type": "code",
   "execution_count": 4,
   "metadata": {},
   "outputs": [
    {
     "data": {
      "text/plain": [
       "['community.advertisers', 'community.description.name', 'location.county']"
      ]
     },
     "execution_count": 4,
     "metadata": {},
     "output_type": "execute_result"
    }
   ],
   "source": [
    "[col for col in df.columns if col not in jsoncolumns]"
   ]
  },
  {
   "cell_type": "markdown",
   "metadata": {},
   "source": [
    "At this point, ensure that you have all sales in a dataframe.\n",
    "- Is each cell one value, or do some cells have lists?\n",
    "- Maybe the \"tags\" will help create some features.\n",
    "- What are the data types of each column?\n",
    "- Some sales may not actually include the sale price.  These rows should be dropped.\n",
    "- Some sales don't include the property type.\n",
    "- There are a lot of None values.  Should these be dropped or replaced with something?"
   ]
  },
  {
   "cell_type": "code",
   "execution_count": 5,
   "metadata": {},
   "outputs": [
    {
     "data": {
      "text/plain": [
       "(8191, 67)"
      ]
     },
     "execution_count": 5,
     "metadata": {},
     "output_type": "execute_result"
    }
   ],
   "source": [
    "df.shape"
   ]
  },
  {
   "cell_type": "code",
   "execution_count": 6,
   "metadata": {},
   "outputs": [
    {
     "name": "stdout",
     "output_type": "stream",
     "text": [
      "<class 'pandas.core.frame.DataFrame'>\n",
      "RangeIndex: 8191 entries, 0 to 8190\n",
      "Data columns (total 67 columns):\n",
      " #   Column                                 Non-Null Count  Dtype  \n",
      "---  ------                                 --------------  -----  \n",
      " 0   last_update_date                       8125 non-null   object \n",
      " 1   tags                                   7638 non-null   object \n",
      " 2   permalink                              8159 non-null   object \n",
      " 3   status                                 8159 non-null   object \n",
      " 4   list_date                              7752 non-null   object \n",
      " 5   open_houses                            0 non-null      object \n",
      " 6   branding                               8159 non-null   object \n",
      " 7   list_price                             7721 non-null   object \n",
      " 8   property_id                            8159 non-null   object \n",
      " 9   photos                                 7403 non-null   object \n",
      " 10  community                              0 non-null      object \n",
      " 11  virtual_tours                          1351 non-null   object \n",
      " 12  listing_id                             7752 non-null   object \n",
      " 13  price_reduced_amount                   2484 non-null   float64\n",
      " 14  matterport                             8159 non-null   object \n",
      " 15  primary_photo.href                     7403 non-null   object \n",
      " 16  source.plan_id                         5 non-null      object \n",
      " 17  source.agents                          7752 non-null   object \n",
      " 18  source.spec_id                         5 non-null      object \n",
      " 19  source.type                            7752 non-null   object \n",
      " 20  description.year_built                 7316 non-null   float64\n",
      " 21  description.baths_3qtr                 566 non-null    float64\n",
      " 22  description.sold_date                  8159 non-null   object \n",
      " 23  description.sold_price                 6716 non-null   object \n",
      " 24  description.baths_full                 7311 non-null   float64\n",
      " 25  description.name                       0 non-null      object \n",
      " 26  description.baths_half                 2281 non-null   float64\n",
      " 27  description.lot_sqft                   6991 non-null   float64\n",
      " 28  description.sqft                       7323 non-null   float64\n",
      " 29  description.baths                      7980 non-null   float64\n",
      " 30  description.sub_type                   1427 non-null   object \n",
      " 31  description.baths_1qtr                 0 non-null      object \n",
      " 32  description.garage                     4448 non-null   float64\n",
      " 33  description.stories                    6260 non-null   float64\n",
      " 34  description.beds                       7504 non-null   float64\n",
      " 35  description.type                       8125 non-null   object \n",
      " 36  lead_attributes.show_contact_an_agent  8159 non-null   object \n",
      " 37  flags.is_new_construction              0 non-null      object \n",
      " 38  flags.is_for_rent                      0 non-null      object \n",
      " 39  flags.is_subdivision                   0 non-null      object \n",
      " 40  flags.is_contingent                    0 non-null      object \n",
      " 41  flags.is_price_reduced                 2484 non-null   object \n",
      " 42  flags.is_pending                       0 non-null      object \n",
      " 43  flags.is_foreclosure                   42 non-null     object \n",
      " 44  flags.is_plan                          0 non-null      object \n",
      " 45  flags.is_coming_soon                   0 non-null      object \n",
      " 46  flags.is_new_listing                   7752 non-null   object \n",
      " 47  products.brand_name                    7673 non-null   object \n",
      " 48  other_listings.rdc                     7856 non-null   object \n",
      " 49  location.address.postal_code           8159 non-null   object \n",
      " 50  location.address.state                 8159 non-null   object \n",
      " 51  location.address.coordinate.lon        7909 non-null   float64\n",
      " 52  location.address.coordinate.lat        7909 non-null   float64\n",
      " 53  location.address.city                  8154 non-null   object \n",
      " 54  location.address.state_code            8159 non-null   object \n",
      " 55  location.address.line                  8144 non-null   object \n",
      " 56  location.street_view_url               8159 non-null   object \n",
      " 57  location.county.fips_code              7588 non-null   object \n",
      " 58  location.county.name                   8149 non-null   object \n",
      " 59  primary_photo                          0 non-null      object \n",
      " 60  source                                 0 non-null      object \n",
      " 61  products                               0 non-null      object \n",
      " 62  location.address.coordinate            0 non-null      object \n",
      " 63  other_listings                         0 non-null      object \n",
      " 64  community.advertisers                  5 non-null      object \n",
      " 65  community.description.name             5 non-null      object \n",
      " 66  location.county                        0 non-null      float64\n",
      "dtypes: float64(14), object(53)\n",
      "memory usage: 4.2+ MB\n"
     ]
    }
   ],
   "source": [
    "df.info()"
   ]
  },
  {
   "cell_type": "code",
   "execution_count": 7,
   "metadata": {},
   "outputs": [
    {
     "data": {
      "text/html": [
       "<div>\n",
       "<style scoped>\n",
       "    .dataframe tbody tr th:only-of-type {\n",
       "        vertical-align: middle;\n",
       "    }\n",
       "\n",
       "    .dataframe tbody tr th {\n",
       "        vertical-align: top;\n",
       "    }\n",
       "\n",
       "    .dataframe thead th {\n",
       "        text-align: right;\n",
       "    }\n",
       "</style>\n",
       "<table border=\"1\" class=\"dataframe\">\n",
       "  <thead>\n",
       "    <tr style=\"text-align: right;\">\n",
       "      <th></th>\n",
       "      <th>price_reduced_amount</th>\n",
       "      <th>description.year_built</th>\n",
       "      <th>description.baths_3qtr</th>\n",
       "      <th>description.baths_full</th>\n",
       "      <th>description.baths_half</th>\n",
       "      <th>description.lot_sqft</th>\n",
       "      <th>description.sqft</th>\n",
       "      <th>description.baths</th>\n",
       "      <th>description.garage</th>\n",
       "      <th>description.stories</th>\n",
       "      <th>description.beds</th>\n",
       "      <th>location.address.coordinate.lon</th>\n",
       "      <th>location.address.coordinate.lat</th>\n",
       "      <th>location.county</th>\n",
       "    </tr>\n",
       "  </thead>\n",
       "  <tbody>\n",
       "    <tr>\n",
       "      <th>count</th>\n",
       "      <td>2.484000e+03</td>\n",
       "      <td>7316.000000</td>\n",
       "      <td>566.000000</td>\n",
       "      <td>7311.000000</td>\n",
       "      <td>2281.000000</td>\n",
       "      <td>6.991000e+03</td>\n",
       "      <td>7323.000000</td>\n",
       "      <td>7980.000000</td>\n",
       "      <td>4448.000000</td>\n",
       "      <td>6260.000000</td>\n",
       "      <td>7504.000000</td>\n",
       "      <td>7909.000000</td>\n",
       "      <td>7909.000000</td>\n",
       "      <td>0.0</td>\n",
       "    </tr>\n",
       "    <tr>\n",
       "      <th>mean</th>\n",
       "      <td>2.442704e+04</td>\n",
       "      <td>1968.916074</td>\n",
       "      <td>1.247350</td>\n",
       "      <td>1.887430</td>\n",
       "      <td>1.105655</td>\n",
       "      <td>2.510949e+05</td>\n",
       "      <td>1933.848559</td>\n",
       "      <td>2.131203</td>\n",
       "      <td>1.926709</td>\n",
       "      <td>1.567732</td>\n",
       "      <td>3.208289</td>\n",
       "      <td>-92.206522</td>\n",
       "      <td>39.009689</td>\n",
       "      <td>NaN</td>\n",
       "    </tr>\n",
       "    <tr>\n",
       "      <th>std</th>\n",
       "      <td>7.162396e+04</td>\n",
       "      <td>35.096914</td>\n",
       "      <td>0.463482</td>\n",
       "      <td>0.862214</td>\n",
       "      <td>0.413340</td>\n",
       "      <td>5.823820e+06</td>\n",
       "      <td>1339.039206</td>\n",
       "      <td>1.175940</td>\n",
       "      <td>0.878766</td>\n",
       "      <td>0.730969</td>\n",
       "      <td>1.282732</td>\n",
       "      <td>15.888886</td>\n",
       "      <td>4.374553</td>\n",
       "      <td>NaN</td>\n",
       "    </tr>\n",
       "    <tr>\n",
       "      <th>min</th>\n",
       "      <td>1.000000e+02</td>\n",
       "      <td>1828.000000</td>\n",
       "      <td>1.000000</td>\n",
       "      <td>1.000000</td>\n",
       "      <td>1.000000</td>\n",
       "      <td>0.000000e+00</td>\n",
       "      <td>120.000000</td>\n",
       "      <td>0.000000</td>\n",
       "      <td>1.000000</td>\n",
       "      <td>1.000000</td>\n",
       "      <td>0.000000</td>\n",
       "      <td>-157.810583</td>\n",
       "      <td>21.277707</td>\n",
       "      <td>NaN</td>\n",
       "    </tr>\n",
       "    <tr>\n",
       "      <th>25%</th>\n",
       "      <td>6.000000e+03</td>\n",
       "      <td>1950.000000</td>\n",
       "      <td>1.000000</td>\n",
       "      <td>1.000000</td>\n",
       "      <td>1.000000</td>\n",
       "      <td>4.953000e+03</td>\n",
       "      <td>1258.000000</td>\n",
       "      <td>1.000000</td>\n",
       "      <td>1.000000</td>\n",
       "      <td>1.000000</td>\n",
       "      <td>3.000000</td>\n",
       "      <td>-104.971611</td>\n",
       "      <td>35.688084</td>\n",
       "      <td>NaN</td>\n",
       "    </tr>\n",
       "    <tr>\n",
       "      <th>50%</th>\n",
       "      <td>1.010000e+04</td>\n",
       "      <td>1975.000000</td>\n",
       "      <td>1.000000</td>\n",
       "      <td>2.000000</td>\n",
       "      <td>1.000000</td>\n",
       "      <td>7.841000e+03</td>\n",
       "      <td>1635.000000</td>\n",
       "      <td>2.000000</td>\n",
       "      <td>2.000000</td>\n",
       "      <td>1.000000</td>\n",
       "      <td>3.000000</td>\n",
       "      <td>-89.333131</td>\n",
       "      <td>39.698210</td>\n",
       "      <td>NaN</td>\n",
       "    </tr>\n",
       "    <tr>\n",
       "      <th>75%</th>\n",
       "      <td>2.000000e+04</td>\n",
       "      <td>1997.000000</td>\n",
       "      <td>1.000000</td>\n",
       "      <td>2.000000</td>\n",
       "      <td>1.000000</td>\n",
       "      <td>1.263200e+04</td>\n",
       "      <td>2264.000000</td>\n",
       "      <td>3.000000</td>\n",
       "      <td>2.000000</td>\n",
       "      <td>2.000000</td>\n",
       "      <td>4.000000</td>\n",
       "      <td>-78.617690</td>\n",
       "      <td>41.832266</td>\n",
       "      <td>NaN</td>\n",
       "    </tr>\n",
       "    <tr>\n",
       "      <th>max</th>\n",
       "      <td>2.015999e+06</td>\n",
       "      <td>2024.000000</td>\n",
       "      <td>3.000000</td>\n",
       "      <td>8.000000</td>\n",
       "      <td>5.000000</td>\n",
       "      <td>1.676624e+08</td>\n",
       "      <td>32106.000000</td>\n",
       "      <td>9.000000</td>\n",
       "      <td>11.000000</td>\n",
       "      <td>10.000000</td>\n",
       "      <td>12.000000</td>\n",
       "      <td>-71.006343</td>\n",
       "      <td>58.396178</td>\n",
       "      <td>NaN</td>\n",
       "    </tr>\n",
       "  </tbody>\n",
       "</table>\n",
       "</div>"
      ],
      "text/plain": [
       "       price_reduced_amount  description.year_built  description.baths_3qtr  \\\n",
       "count          2.484000e+03             7316.000000              566.000000   \n",
       "mean           2.442704e+04             1968.916074                1.247350   \n",
       "std            7.162396e+04               35.096914                0.463482   \n",
       "min            1.000000e+02             1828.000000                1.000000   \n",
       "25%            6.000000e+03             1950.000000                1.000000   \n",
       "50%            1.010000e+04             1975.000000                1.000000   \n",
       "75%            2.000000e+04             1997.000000                1.000000   \n",
       "max            2.015999e+06             2024.000000                3.000000   \n",
       "\n",
       "       description.baths_full  description.baths_half  description.lot_sqft  \\\n",
       "count             7311.000000             2281.000000          6.991000e+03   \n",
       "mean                 1.887430                1.105655          2.510949e+05   \n",
       "std                  0.862214                0.413340          5.823820e+06   \n",
       "min                  1.000000                1.000000          0.000000e+00   \n",
       "25%                  1.000000                1.000000          4.953000e+03   \n",
       "50%                  2.000000                1.000000          7.841000e+03   \n",
       "75%                  2.000000                1.000000          1.263200e+04   \n",
       "max                  8.000000                5.000000          1.676624e+08   \n",
       "\n",
       "       description.sqft  description.baths  description.garage  \\\n",
       "count       7323.000000        7980.000000         4448.000000   \n",
       "mean        1933.848559           2.131203            1.926709   \n",
       "std         1339.039206           1.175940            0.878766   \n",
       "min          120.000000           0.000000            1.000000   \n",
       "25%         1258.000000           1.000000            1.000000   \n",
       "50%         1635.000000           2.000000            2.000000   \n",
       "75%         2264.000000           3.000000            2.000000   \n",
       "max        32106.000000           9.000000           11.000000   \n",
       "\n",
       "       description.stories  description.beds  location.address.coordinate.lon  \\\n",
       "count          6260.000000       7504.000000                      7909.000000   \n",
       "mean              1.567732          3.208289                       -92.206522   \n",
       "std               0.730969          1.282732                        15.888886   \n",
       "min               1.000000          0.000000                      -157.810583   \n",
       "25%               1.000000          3.000000                      -104.971611   \n",
       "50%               1.000000          3.000000                       -89.333131   \n",
       "75%               2.000000          4.000000                       -78.617690   \n",
       "max              10.000000         12.000000                       -71.006343   \n",
       "\n",
       "       location.address.coordinate.lat  location.county  \n",
       "count                      7909.000000              0.0  \n",
       "mean                         39.009689              NaN  \n",
       "std                           4.374553              NaN  \n",
       "min                          21.277707              NaN  \n",
       "25%                          35.688084              NaN  \n",
       "50%                          39.698210              NaN  \n",
       "75%                          41.832266              NaN  \n",
       "max                          58.396178              NaN  "
      ]
     },
     "execution_count": 7,
     "metadata": {},
     "output_type": "execute_result"
    }
   ],
   "source": [
    "df.describe()"
   ]
  },
  {
   "cell_type": "code",
   "execution_count": 8,
   "metadata": {},
   "outputs": [],
   "source": [
    "# load and concatenate data here\n",
    "# drop or replace values as necessary\n",
    "\n",
    "# print(df.iloc[0,0:10])\n",
    "# print(df.iloc[0,10:20])\n",
    "# print(df.iloc[0,20:30])\n",
    "\n"
   ]
  },
  {
   "cell_type": "code",
   "execution_count": 9,
   "metadata": {},
   "outputs": [],
   "source": [
    "# print(df.iloc[0,30:40])\n",
    "# print(df.iloc[0,40:50])\n",
    "# print(df.iloc[0,50:60])\n",
    "# print(df.iloc[0,60:70])"
   ]
  },
  {
   "cell_type": "code",
   "execution_count": 10,
   "metadata": {},
   "outputs": [
    {
     "name": "stdout",
     "output_type": "stream",
     "text": [
      "['central_air', 'dishwasher', 'fireplace', 'forced_air', 'hardwood_floors', 'washer_dryer', 'basement', 'single_story', 'garage_1_or_more', 'garage_2_or_more', 'big_yard', 'vaulted_ceiling', 'open_floor_plan', 'floor_plan', 'corner_lot', 'big_lot', 'ensuite']\n"
     ]
    }
   ],
   "source": [
    "print(df['tags'][0])"
   ]
  },
  {
   "cell_type": "code",
   "execution_count": 11,
   "metadata": {},
   "outputs": [
    {
     "name": "stdout",
     "output_type": "stream",
     "text": [
      "[{'name': 'Howard Hanna - Colonial Park', 'photo': None, 'type': 'Office'}]\n"
     ]
    }
   ],
   "source": [
    "print(df['branding'][0])"
   ]
  },
  {
   "cell_type": "code",
   "execution_count": 12,
   "metadata": {},
   "outputs": [
    {
     "name": "stdout",
     "output_type": "stream",
     "text": [
      "[{'tags': [{'label': 'garage', 'probability': 0.99981635808945}, {'label': 'house_view', 'probability': 0.99869686365128}, {'label': 'road_view', 'probability': 0.99956554174423}, {'label': 'yard', 'probability': 0.9751615524292}, {'label': 'house_view', 'probability': 0.99909782409668}, {'label': 'house_view', 'probability': 0.99994349479675}], 'href': 'https://ap.rdcpix.com/8c0b391ae4f9bbca36c41d559ef75598l-m2349710986s-w1024_h768.jpg'}]\n"
     ]
    }
   ],
   "source": [
    "print(df['photos'][0]) "
   ]
  },
  {
   "cell_type": "code",
   "execution_count": 13,
   "metadata": {},
   "outputs": [],
   "source": [
    "# [value for value in df['price_reduced_amount'] if value is not np.NaN]\n"
   ]
  },
  {
   "cell_type": "code",
   "execution_count": 14,
   "metadata": {},
   "outputs": [],
   "source": [
    "\n",
    "drop_cols = ['last_update_date', 'permalink', 'list_date', 'open_houses', 'branding', \n",
    "             'property_id', 'photos', 'community', 'virtual_tours', 'listing_id', 'matterport',\n",
    "             'primary_photo.href', 'source.plan_id', 'source.agents', 'source.spec_id', \n",
    "             'source.type', 'description.name','lead_attributes.show_contact_an_agent',\n",
    "               'price_reduced_amount', 'flags.is_for_rent', 'flags.is_contingent',\n",
    "               'flags.is_pending', 'flags.is_plan', 'flags.is_coming_soon', 'flags.is_new_listing',\n",
    "               'products.brand_name', 'other_listings.rdc', 'location.address.postal_code', 'location.address.line',\n",
    "               'location.street_view_url', 'location.county.fips_code', 'primary_photo', 'source', 'products',\n",
    "               'location.address.coordinate', 'other_listings', 'community.advertisers', 'community.description.name',\n",
    "               'location.county', 'status', 'location.address.state', 'flags.is_new_construction', \n",
    "               'flags.is_subdivision', 'flags.is_price_reduced', 'flags.is_foreclosure']\n",
    "\n",
    "            \n",
    "\n",
    "df = df.drop(columns= drop_cols)"
   ]
  },
  {
   "cell_type": "code",
   "execution_count": 15,
   "metadata": {},
   "outputs": [
    {
     "data": {
      "text/plain": [
       "(8191, 22)"
      ]
     },
     "execution_count": 15,
     "metadata": {},
     "output_type": "execute_result"
    }
   ],
   "source": [
    "df.shape"
   ]
  },
  {
   "cell_type": "code",
   "execution_count": 16,
   "metadata": {},
   "outputs": [
    {
     "data": {
      "text/plain": [
       "Index(['tags', 'list_price', 'description.year_built',\n",
       "       'description.baths_3qtr', 'description.sold_date',\n",
       "       'description.sold_price', 'description.baths_full',\n",
       "       'description.baths_half', 'description.lot_sqft', 'description.sqft',\n",
       "       'description.baths', 'description.sub_type', 'description.baths_1qtr',\n",
       "       'description.garage', 'description.stories', 'description.beds',\n",
       "       'description.type', 'location.address.coordinate.lon',\n",
       "       'location.address.coordinate.lat', 'location.address.city',\n",
       "       'location.address.state_code', 'location.county.name'],\n",
       "      dtype='object')"
      ]
     },
     "execution_count": 16,
     "metadata": {},
     "output_type": "execute_result"
    }
   ],
   "source": [
    "df.columns"
   ]
  },
  {
   "cell_type": "code",
   "execution_count": 17,
   "metadata": {},
   "outputs": [],
   "source": [
    "# df.iloc[0:5, :10]"
   ]
  },
  {
   "cell_type": "code",
   "execution_count": 18,
   "metadata": {},
   "outputs": [],
   "source": [
    "# df.iloc[0:5,10:]"
   ]
  },
  {
   "cell_type": "code",
   "execution_count": 19,
   "metadata": {},
   "outputs": [],
   "source": [
    "# df['flags.is_price_reduced'].value_counts()/df.shape[0]"
   ]
  },
  {
   "cell_type": "code",
   "execution_count": 20,
   "metadata": {},
   "outputs": [],
   "source": [
    "# df['flags.is_foreclosure'].value_counts()/df.shape[0]"
   ]
  },
  {
   "cell_type": "code",
   "execution_count": 21,
   "metadata": {},
   "outputs": [
    {
     "data": {
      "text/plain": [
       "0.06751312416066414"
      ]
     },
     "execution_count": 21,
     "metadata": {},
     "output_type": "execute_result"
    }
   ],
   "source": [
    "missing_tags = df[df['tags'].isna()]\n",
    "missing_tags.shape[0]/df.shape[0]"
   ]
  },
  {
   "cell_type": "code",
   "execution_count": 22,
   "metadata": {},
   "outputs": [],
   "source": [
    "# Extract tags\n",
    "tags = list({tag for sublist in df['tags'] if isinstance(sublist, list) for tag in sublist})\n",
    "\n",
    "# Dataframe for tags\n",
    "tag_df = pd.DataFrame(0, index=df.index, columns=tags)\n",
    "\n",
    "# Fill in tags\n",
    "for tag in tags:\n",
    "    tag_df[tag] = df['tags'].apply(lambda x: 1 if isinstance(x, list) and tag in x else 0)\n",
    "\n",
    "# Concatenate tag df and original feature set\n",
    "df = pd.concat([df, tag_df], axis=1)\n",
    "\n",
    "# Drop the original 'tags' column\n",
    "df.drop('tags', axis=1, inplace=True)\n"
   ]
  },
  {
   "cell_type": "code",
   "execution_count": 23,
   "metadata": {},
   "outputs": [
    {
     "data": {
      "text/plain": [
       "(8191, 176)"
      ]
     },
     "execution_count": 23,
     "metadata": {},
     "output_type": "execute_result"
    }
   ],
   "source": [
    "df.shape"
   ]
  },
  {
   "cell_type": "code",
   "execution_count": null,
   "metadata": {},
   "outputs": [],
   "source": []
  },
  {
   "cell_type": "code",
   "execution_count": 24,
   "metadata": {},
   "outputs": [
    {
     "data": {
      "text/plain": [
       "(5260, 176)"
      ]
     },
     "execution_count": 24,
     "metadata": {},
     "output_type": "execute_result"
    }
   ],
   "source": [
    "df = df[~df['description.sold_price'].isna()] \n",
    "df = df[~df['description.type'].isna()] \n",
    "df = df[~df['description.year_built'].isna()]\n",
    "df = df[~df['description.lot_sqft'].isna()]\n",
    "df = df[~df['description.sqft'].isna()]\n",
    "df = df[~df['location.address.coordinate.lon'].isna()]\n",
    "df = df[~df['location.address.coordinate.lat'].isna()]\n",
    "df.shape"
   ]
  },
  {
   "cell_type": "code",
   "execution_count": 25,
   "metadata": {},
   "outputs": [],
   "source": [
    "# original_features = df.iloc[:,0:21] #full feature set is too big for info()\n",
    "# original_features.info()"
   ]
  },
  {
   "cell_type": "code",
   "execution_count": 26,
   "metadata": {},
   "outputs": [],
   "source": [
    "df = df.drop(columns=['list_price', 'description.sold_date', 'description.baths_1qtr'])\n",
    "\n",
    "columns_to_fill_zeroes = ['description.baths_3qtr', 'description.baths_full', 'description.baths_half', 'description.baths',\n",
    "                          'description.garage', 'description.beds']\n",
    "df[columns_to_fill_zeroes] = df[columns_to_fill_zeroes].fillna(0)\n",
    "\n",
    "columns_to_fill_NA = ['description.sub_type', 'location.address.city', 'location.county.name']\n",
    "df[columns_to_fill_NA] = df[columns_to_fill_NA].fillna('N/A')\n",
    "\n",
    "columns_to_fill_ones = ['description.stories']\n",
    "df[columns_to_fill_ones] = df[columns_to_fill_ones].fillna(1)\n"
   ]
  },
  {
   "cell_type": "code",
   "execution_count": 27,
   "metadata": {},
   "outputs": [
    {
     "data": {
      "text/plain": [
       "(5260, 173)"
      ]
     },
     "execution_count": 27,
     "metadata": {},
     "output_type": "execute_result"
    }
   ],
   "source": [
    "df.shape"
   ]
  },
  {
   "cell_type": "code",
   "execution_count": 28,
   "metadata": {},
   "outputs": [
    {
     "name": "stdout",
     "output_type": "stream",
     "text": [
      "<class 'pandas.core.frame.DataFrame'>\n",
      "Int64Index: 5260 entries, 0 to 8190\n",
      "Data columns (total 18 columns):\n",
      " #   Column                           Non-Null Count  Dtype  \n",
      "---  ------                           --------------  -----  \n",
      " 0   description.year_built           5260 non-null   float64\n",
      " 1   description.baths_3qtr           5260 non-null   float64\n",
      " 2   description.sold_price           5260 non-null   object \n",
      " 3   description.baths_full           5260 non-null   float64\n",
      " 4   description.baths_half           5260 non-null   float64\n",
      " 5   description.lot_sqft             5260 non-null   float64\n",
      " 6   description.sqft                 5260 non-null   float64\n",
      " 7   description.baths                5260 non-null   float64\n",
      " 8   description.sub_type             5260 non-null   object \n",
      " 9   description.garage               5260 non-null   float64\n",
      " 10  description.stories              5260 non-null   float64\n",
      " 11  description.beds                 5260 non-null   float64\n",
      " 12  description.type                 5260 non-null   object \n",
      " 13  location.address.coordinate.lon  5260 non-null   float64\n",
      " 14  location.address.coordinate.lat  5260 non-null   float64\n",
      " 15  location.address.city            5260 non-null   object \n",
      " 16  location.address.state_code      5260 non-null   object \n",
      " 17  location.county.name             5260 non-null   object \n",
      "dtypes: float64(12), object(6)\n",
      "memory usage: 780.8+ KB\n"
     ]
    }
   ],
   "source": [
    "original_features = df.iloc[:,0:18] \n",
    "original_features.info()"
   ]
  },
  {
   "cell_type": "code",
   "execution_count": 37,
   "metadata": {},
   "outputs": [
    {
     "data": {
      "text/html": [
       "<div>\n",
       "<style scoped>\n",
       "    .dataframe tbody tr th:only-of-type {\n",
       "        vertical-align: middle;\n",
       "    }\n",
       "\n",
       "    .dataframe tbody tr th {\n",
       "        vertical-align: top;\n",
       "    }\n",
       "\n",
       "    .dataframe thead th {\n",
       "        text-align: right;\n",
       "    }\n",
       "</style>\n",
       "<table border=\"1\" class=\"dataframe\">\n",
       "  <thead>\n",
       "    <tr style=\"text-align: right;\">\n",
       "      <th></th>\n",
       "      <th>location.county.name</th>\n",
       "      <th>low_hoa</th>\n",
       "      <th>garage_2_or_more</th>\n",
       "      <th>basketball</th>\n",
       "      <th>guest_parking</th>\n",
       "      <th>coffer_ceiling</th>\n",
       "      <th>garage_3_or_more</th>\n",
       "      <th>first_floor_master_bedroom</th>\n",
       "      <th>high_ceiling</th>\n",
       "      <th>kitchen_island</th>\n",
       "      <th>...</th>\n",
       "      <th>community_boat_facilities</th>\n",
       "      <th>tennis</th>\n",
       "      <th>central_air</th>\n",
       "      <th>smart_homes</th>\n",
       "      <th>master_suite</th>\n",
       "      <th>greenhouse</th>\n",
       "      <th>swimming_pool</th>\n",
       "      <th>energy_efficient</th>\n",
       "      <th>community_outdoor_space</th>\n",
       "      <th>senior_community</th>\n",
       "    </tr>\n",
       "  </thead>\n",
       "  <tbody>\n",
       "    <tr>\n",
       "      <th>0</th>\n",
       "      <td>Dauphin</td>\n",
       "      <td>0</td>\n",
       "      <td>1</td>\n",
       "      <td>0</td>\n",
       "      <td>0</td>\n",
       "      <td>0</td>\n",
       "      <td>0</td>\n",
       "      <td>0</td>\n",
       "      <td>0</td>\n",
       "      <td>0</td>\n",
       "      <td>...</td>\n",
       "      <td>0</td>\n",
       "      <td>0</td>\n",
       "      <td>1</td>\n",
       "      <td>0</td>\n",
       "      <td>0</td>\n",
       "      <td>0</td>\n",
       "      <td>0</td>\n",
       "      <td>0</td>\n",
       "      <td>0</td>\n",
       "      <td>0</td>\n",
       "    </tr>\n",
       "    <tr>\n",
       "      <th>1</th>\n",
       "      <td>Dauphin</td>\n",
       "      <td>0</td>\n",
       "      <td>1</td>\n",
       "      <td>0</td>\n",
       "      <td>0</td>\n",
       "      <td>0</td>\n",
       "      <td>1</td>\n",
       "      <td>0</td>\n",
       "      <td>0</td>\n",
       "      <td>0</td>\n",
       "      <td>...</td>\n",
       "      <td>0</td>\n",
       "      <td>0</td>\n",
       "      <td>0</td>\n",
       "      <td>0</td>\n",
       "      <td>0</td>\n",
       "      <td>0</td>\n",
       "      <td>0</td>\n",
       "      <td>0</td>\n",
       "      <td>0</td>\n",
       "      <td>0</td>\n",
       "    </tr>\n",
       "    <tr>\n",
       "      <th>2</th>\n",
       "      <td>Dauphin</td>\n",
       "      <td>0</td>\n",
       "      <td>0</td>\n",
       "      <td>0</td>\n",
       "      <td>0</td>\n",
       "      <td>0</td>\n",
       "      <td>0</td>\n",
       "      <td>0</td>\n",
       "      <td>0</td>\n",
       "      <td>0</td>\n",
       "      <td>...</td>\n",
       "      <td>0</td>\n",
       "      <td>0</td>\n",
       "      <td>1</td>\n",
       "      <td>0</td>\n",
       "      <td>0</td>\n",
       "      <td>0</td>\n",
       "      <td>0</td>\n",
       "      <td>0</td>\n",
       "      <td>0</td>\n",
       "      <td>0</td>\n",
       "    </tr>\n",
       "    <tr>\n",
       "      <th>3</th>\n",
       "      <td>Dauphin</td>\n",
       "      <td>0</td>\n",
       "      <td>0</td>\n",
       "      <td>0</td>\n",
       "      <td>0</td>\n",
       "      <td>0</td>\n",
       "      <td>0</td>\n",
       "      <td>0</td>\n",
       "      <td>0</td>\n",
       "      <td>0</td>\n",
       "      <td>...</td>\n",
       "      <td>0</td>\n",
       "      <td>0</td>\n",
       "      <td>1</td>\n",
       "      <td>0</td>\n",
       "      <td>0</td>\n",
       "      <td>0</td>\n",
       "      <td>0</td>\n",
       "      <td>0</td>\n",
       "      <td>0</td>\n",
       "      <td>0</td>\n",
       "    </tr>\n",
       "    <tr>\n",
       "      <th>4</th>\n",
       "      <td>Dauphin</td>\n",
       "      <td>0</td>\n",
       "      <td>0</td>\n",
       "      <td>0</td>\n",
       "      <td>0</td>\n",
       "      <td>0</td>\n",
       "      <td>0</td>\n",
       "      <td>0</td>\n",
       "      <td>0</td>\n",
       "      <td>0</td>\n",
       "      <td>...</td>\n",
       "      <td>0</td>\n",
       "      <td>0</td>\n",
       "      <td>0</td>\n",
       "      <td>0</td>\n",
       "      <td>0</td>\n",
       "      <td>0</td>\n",
       "      <td>0</td>\n",
       "      <td>0</td>\n",
       "      <td>0</td>\n",
       "      <td>0</td>\n",
       "    </tr>\n",
       "    <tr>\n",
       "      <th>...</th>\n",
       "      <td>...</td>\n",
       "      <td>...</td>\n",
       "      <td>...</td>\n",
       "      <td>...</td>\n",
       "      <td>...</td>\n",
       "      <td>...</td>\n",
       "      <td>...</td>\n",
       "      <td>...</td>\n",
       "      <td>...</td>\n",
       "      <td>...</td>\n",
       "      <td>...</td>\n",
       "      <td>...</td>\n",
       "      <td>...</td>\n",
       "      <td>...</td>\n",
       "      <td>...</td>\n",
       "      <td>...</td>\n",
       "      <td>...</td>\n",
       "      <td>...</td>\n",
       "      <td>...</td>\n",
       "      <td>...</td>\n",
       "      <td>...</td>\n",
       "    </tr>\n",
       "    <tr>\n",
       "      <th>8185</th>\n",
       "      <td>Marion</td>\n",
       "      <td>0</td>\n",
       "      <td>0</td>\n",
       "      <td>0</td>\n",
       "      <td>0</td>\n",
       "      <td>0</td>\n",
       "      <td>0</td>\n",
       "      <td>0</td>\n",
       "      <td>0</td>\n",
       "      <td>0</td>\n",
       "      <td>...</td>\n",
       "      <td>0</td>\n",
       "      <td>0</td>\n",
       "      <td>1</td>\n",
       "      <td>0</td>\n",
       "      <td>0</td>\n",
       "      <td>0</td>\n",
       "      <td>0</td>\n",
       "      <td>0</td>\n",
       "      <td>0</td>\n",
       "      <td>0</td>\n",
       "    </tr>\n",
       "    <tr>\n",
       "      <th>8187</th>\n",
       "      <td>Marion</td>\n",
       "      <td>0</td>\n",
       "      <td>1</td>\n",
       "      <td>0</td>\n",
       "      <td>0</td>\n",
       "      <td>0</td>\n",
       "      <td>0</td>\n",
       "      <td>0</td>\n",
       "      <td>0</td>\n",
       "      <td>0</td>\n",
       "      <td>...</td>\n",
       "      <td>0</td>\n",
       "      <td>0</td>\n",
       "      <td>0</td>\n",
       "      <td>0</td>\n",
       "      <td>0</td>\n",
       "      <td>0</td>\n",
       "      <td>0</td>\n",
       "      <td>0</td>\n",
       "      <td>0</td>\n",
       "      <td>0</td>\n",
       "    </tr>\n",
       "    <tr>\n",
       "      <th>8188</th>\n",
       "      <td>Hamilton</td>\n",
       "      <td>0</td>\n",
       "      <td>0</td>\n",
       "      <td>0</td>\n",
       "      <td>0</td>\n",
       "      <td>0</td>\n",
       "      <td>0</td>\n",
       "      <td>0</td>\n",
       "      <td>0</td>\n",
       "      <td>0</td>\n",
       "      <td>...</td>\n",
       "      <td>0</td>\n",
       "      <td>0</td>\n",
       "      <td>1</td>\n",
       "      <td>0</td>\n",
       "      <td>0</td>\n",
       "      <td>0</td>\n",
       "      <td>0</td>\n",
       "      <td>0</td>\n",
       "      <td>0</td>\n",
       "      <td>0</td>\n",
       "    </tr>\n",
       "    <tr>\n",
       "      <th>8189</th>\n",
       "      <td>Marion</td>\n",
       "      <td>0</td>\n",
       "      <td>1</td>\n",
       "      <td>0</td>\n",
       "      <td>0</td>\n",
       "      <td>0</td>\n",
       "      <td>0</td>\n",
       "      <td>0</td>\n",
       "      <td>0</td>\n",
       "      <td>0</td>\n",
       "      <td>...</td>\n",
       "      <td>0</td>\n",
       "      <td>1</td>\n",
       "      <td>0</td>\n",
       "      <td>0</td>\n",
       "      <td>0</td>\n",
       "      <td>0</td>\n",
       "      <td>0</td>\n",
       "      <td>0</td>\n",
       "      <td>0</td>\n",
       "      <td>0</td>\n",
       "    </tr>\n",
       "    <tr>\n",
       "      <th>8190</th>\n",
       "      <td>Marion</td>\n",
       "      <td>0</td>\n",
       "      <td>1</td>\n",
       "      <td>0</td>\n",
       "      <td>0</td>\n",
       "      <td>0</td>\n",
       "      <td>0</td>\n",
       "      <td>0</td>\n",
       "      <td>0</td>\n",
       "      <td>0</td>\n",
       "      <td>...</td>\n",
       "      <td>0</td>\n",
       "      <td>0</td>\n",
       "      <td>1</td>\n",
       "      <td>0</td>\n",
       "      <td>0</td>\n",
       "      <td>0</td>\n",
       "      <td>0</td>\n",
       "      <td>0</td>\n",
       "      <td>0</td>\n",
       "      <td>0</td>\n",
       "    </tr>\n",
       "  </tbody>\n",
       "</table>\n",
       "<p>5260 rows × 156 columns</p>\n",
       "</div>"
      ],
      "text/plain": [
       "     location.county.name  low_hoa  garage_2_or_more  basketball  \\\n",
       "0                 Dauphin        0                 1           0   \n",
       "1                 Dauphin        0                 1           0   \n",
       "2                 Dauphin        0                 0           0   \n",
       "3                 Dauphin        0                 0           0   \n",
       "4                 Dauphin        0                 0           0   \n",
       "...                   ...      ...               ...         ...   \n",
       "8185               Marion        0                 0           0   \n",
       "8187               Marion        0                 1           0   \n",
       "8188             Hamilton        0                 0           0   \n",
       "8189               Marion        0                 1           0   \n",
       "8190               Marion        0                 1           0   \n",
       "\n",
       "      guest_parking  coffer_ceiling  garage_3_or_more  \\\n",
       "0                 0               0                 0   \n",
       "1                 0               0                 1   \n",
       "2                 0               0                 0   \n",
       "3                 0               0                 0   \n",
       "4                 0               0                 0   \n",
       "...             ...             ...               ...   \n",
       "8185              0               0                 0   \n",
       "8187              0               0                 0   \n",
       "8188              0               0                 0   \n",
       "8189              0               0                 0   \n",
       "8190              0               0                 0   \n",
       "\n",
       "      first_floor_master_bedroom  high_ceiling  kitchen_island  ...  \\\n",
       "0                              0             0               0  ...   \n",
       "1                              0             0               0  ...   \n",
       "2                              0             0               0  ...   \n",
       "3                              0             0               0  ...   \n",
       "4                              0             0               0  ...   \n",
       "...                          ...           ...             ...  ...   \n",
       "8185                           0             0               0  ...   \n",
       "8187                           0             0               0  ...   \n",
       "8188                           0             0               0  ...   \n",
       "8189                           0             0               0  ...   \n",
       "8190                           0             0               0  ...   \n",
       "\n",
       "      community_boat_facilities  tennis  central_air  smart_homes  \\\n",
       "0                             0       0            1            0   \n",
       "1                             0       0            0            0   \n",
       "2                             0       0            1            0   \n",
       "3                             0       0            1            0   \n",
       "4                             0       0            0            0   \n",
       "...                         ...     ...          ...          ...   \n",
       "8185                          0       0            1            0   \n",
       "8187                          0       0            0            0   \n",
       "8188                          0       0            1            0   \n",
       "8189                          0       1            0            0   \n",
       "8190                          0       0            1            0   \n",
       "\n",
       "      master_suite  greenhouse  swimming_pool  energy_efficient  \\\n",
       "0                0           0              0                 0   \n",
       "1                0           0              0                 0   \n",
       "2                0           0              0                 0   \n",
       "3                0           0              0                 0   \n",
       "4                0           0              0                 0   \n",
       "...            ...         ...            ...               ...   \n",
       "8185             0           0              0                 0   \n",
       "8187             0           0              0                 0   \n",
       "8188             0           0              0                 0   \n",
       "8189             0           0              0                 0   \n",
       "8190             0           0              0                 0   \n",
       "\n",
       "      community_outdoor_space  senior_community  \n",
       "0                           0                 0  \n",
       "1                           0                 0  \n",
       "2                           0                 0  \n",
       "3                           0                 0  \n",
       "4                           0                 0  \n",
       "...                       ...               ...  \n",
       "8185                        0                 0  \n",
       "8187                        0                 0  \n",
       "8188                        0                 0  \n",
       "8189                        0                 0  \n",
       "8190                        0                 0  \n",
       "\n",
       "[5260 rows x 156 columns]"
      ]
     },
     "execution_count": 37,
     "metadata": {},
     "output_type": "execute_result"
    }
   ],
   "source": [
    "df.iloc[:,17:]"
   ]
  },
  {
   "cell_type": "markdown",
   "metadata": {},
   "source": [
    "Consider the fact that with tags, there are a lot of categorical variables.\n",
    "- How many columns would we have if we OHE tags, city and state?\n",
    "- Perhaps we can get rid of tags that have a low frequency.\n",
    "- Sales will vary drastically between cities and states.  Is there a way to keep information about which city it is without OHE such as using central tendency?\n",
    "- Could we label encode or ordinal encode?  Yes, but this may have undesirable effects, giving nominal data ordinal values."
   ]
  },
  {
   "cell_type": "code",
   "execution_count": 30,
   "metadata": {},
   "outputs": [],
   "source": [
    "# OHE categorical variables here\n",
    "# tags will have to be done manually\n",
    "\n",
    "# for column in df.columns[18:]:\n",
    "#     non_zero_count = df[column].sum()  \n",
    "#     total_count = len(df)  \n",
    "#     proportion_non_zero = non_zero_count / total_count  \n",
    "#     print(f\"Column: {column}, Proportion of non-zero values: {proportion_non_zero:.2f}\")\n",
    "\n"
   ]
  },
  {
   "cell_type": "code",
   "execution_count": 38,
   "metadata": {},
   "outputs": [
    {
     "name": "stdout",
     "output_type": "stream",
     "text": [
      "Columns dropped:\n",
      "['low_hoa', 'basketball', 'guest_parking', 'coffer_ceiling', 'first_floor_master_bedroom', 'kitchen_island', 'pets_allowed', 'courtyard_entry', 'two_kitchen', 'white_kitchen', 'community_spa_or_hot_tub', 'indoor_basketball_court', 'security', 'lake_view', 'open_kitchen', 'community_center', 'well_water', 'outbuilding', 'efficient', 'river_access', 'fruit_trees', 'river_view', 'pond', 'outdoor_kitchen', 'open_house', 'game_room', 'theater_room', 'storm_shelter', 'golf_course', 'maintenance', 'greenbelt', 'ocean_view', 'dual_master_bedroom', 'community_tennis_court', 'community_clubhouse', 'private_bathroom', 'big_bathroom', 'wrap_around_porch', 'granite_kitchen', 'wooded_land', 'clubhouse', 'baseball', 'community_park', 'beautiful_backyard', 'two_master_suites', 'community_gym', 'beach', 'lake', 'cathedral_ceiling', 'basketball_court', 'private_backyard', 'soccer', 'water_view', 'media_room', 'horse_facilities', 'exposed_brick', 'gated_community', 'hill_or_mountain_view', 'master_bathroom', 'solar_system', 'horse_property', 'community_horse_facilities', 'screen_porch', 'community_golf', 'no_hoa', 'wine_cellar', 'detached_guest_house', 'horse_stables', 'mountain_view', 'private_courtyard', 'solar_panels', 'cul_de_sac', 'large_porch', 'guest_house', 'furniture', 'large_kitchen', 'rv_or_boat_parking', 'spa_or_hot_tub', 'medicalcare', 'rv_parking', 'waterfront', 'library', 'volleyball', 'marina', 'gourmet_kitchen', 'fenced_courtyard', 'community_elevator', 'tennis_court', 'private_parking', 'jack_and_jill_bathroom', 'golf_course_lot_or_frontage', 'boat_dock', 'golf_course_view', 'equestrian', 'den_or_office', 'hoa', 'elevator', 'handicap_access', 'investment_opportunity', 'playground', 'community_boat_facilities', 'tennis', 'smart_homes', 'master_suite', 'greenhouse', 'senior_community']\n"
     ]
    }
   ],
   "source": [
    "columns_to_drop = []\n",
    "\n",
    "for column in df.columns[18:]:\n",
    "    non_zero_count = df[column].sum()  \n",
    "    total_count = len(df)  \n",
    "    proportion_non_zero = non_zero_count / total_count  \n",
    "    if proportion_non_zero < 0.05:\n",
    "        columns_to_drop.append(column)\n",
    "\n",
    "df.drop(columns_to_drop, axis=1, inplace=True)\n",
    "\n",
    "print(\"Columns dropped:\")\n",
    "print(columns_to_drop)"
   ]
  },
  {
   "cell_type": "code",
   "execution_count": 39,
   "metadata": {},
   "outputs": [
    {
     "data": {
      "text/plain": [
       "106"
      ]
     },
     "execution_count": 39,
     "metadata": {},
     "output_type": "execute_result"
    }
   ],
   "source": [
    "len(columns_to_drop)"
   ]
  },
  {
   "cell_type": "code",
   "execution_count": 40,
   "metadata": {},
   "outputs": [
    {
     "data": {
      "text/plain": [
       "(5260, 67)"
      ]
     },
     "execution_count": 40,
     "metadata": {},
     "output_type": "execute_result"
    }
   ],
   "source": [
    "df.shape"
   ]
  },
  {
   "cell_type": "code",
   "execution_count": 41,
   "metadata": {},
   "outputs": [],
   "source": [
    "df.to_csv('../data/processing_check.csv')"
   ]
  },
  {
   "cell_type": "code",
   "execution_count": null,
   "metadata": {},
   "outputs": [],
   "source": [
    "df['description.type'] = df['description.type'].replace('condo', 'condos')\n",
    "df = pd.get_dummies(df, columns=['description.type', 'description.sub_type'])"
   ]
  },
  {
   "cell_type": "markdown",
   "metadata": {},
   "source": [
    "If using numerical values to replace cities or states, make sure that the data is split so that we don't leak data into the training selection.\n",
    "- If you think about a real scenario, do we have any knowledge of new listings that would come in once modeling is complete?\n",
    "- Drop columns that aren't needed.\n",
    "- Don't keep the list price because it will be too close to the sale price."
   ]
  },
  {
   "cell_type": "code",
   "execution_count": null,
   "metadata": {},
   "outputs": [],
   "source": [
    "from sklearn.model_selection import train_test_split\n",
    "\n",
    "# perform train test split here\n",
    "train_df, test_df = train_test_split(df, test_size= 0.2, random_state= 42)\n",
    "\n",
    "# do something with state and city"
   ]
  },
  {
   "cell_type": "code",
   "execution_count": null,
   "metadata": {},
   "outputs": [],
   "source": [
    "# Compute means on train_df\n",
    "city_mean_train = train_df.groupby('location.address.city')['description.sold_price'].transform('mean')\n",
    "state_mean_train = train_df.groupby('location.address.state_code')['description.sold_price'].transform('mean')\n",
    "county_mean_train = train_df.groupby('location.county.name')['description.sold_price'].transform('mean')\n",
    "\n",
    "# Fill means on train_df\n",
    "train_df['city_mean_sold_price'] = city_mean_train\n",
    "train_df['state_mean_sold_price'] = state_mean_train\n",
    "train_df['county_mean_sold_price'] = county_mean_train\n",
    "\n",
    "# Create DataFrames for means on train_df\n",
    "city_mean_df = train_df.groupby('location.address.city')['description.sold_price'].mean().reset_index()\n",
    "city_mean_df.columns = ['location.address.city', 'city_mean_sold_price']\n",
    "state_mean_df = train_df.groupby('location.address.state_code')['description.sold_price'].mean().reset_index()\n",
    "state_mean_df.columns = ['location.address.state_code', 'state_mean_sold_price']\n",
    "county_mean_df = train_df.groupby('location.county.name')['description.sold_price'].mean().reset_index()\n",
    "county_mean_df.columns = ['location.county.name', 'county_mean_sold_price']\n",
    "\n",
    "# Set index to corresponding columns for merging\n",
    "city_mean_df.set_index('location.address.city', inplace=True)\n",
    "state_mean_df.set_index('location.address.state_code', inplace=True)\n",
    "county_mean_df.set_index('location.county.name', inplace=True)\n",
    "\n",
    "# Fill means on test_df\n",
    "test_df = test_df.merge(city_mean_df, left_on='location.address.city', right_index=True, suffixes=('', '_city_mean'))\n",
    "test_df = test_df.merge(state_mean_df, left_on='location.address.state_code', right_index=True, suffixes=('', '_state_mean'))\n",
    "test_df = test_df.merge(county_mean_df, left_on='location.county.name', right_index=True, suffixes=('', '_county_mean'))\n",
    "\n",
    "\n"
   ]
  },
  {
   "cell_type": "code",
   "execution_count": null,
   "metadata": {},
   "outputs": [],
   "source": [
    "train_df.shape"
   ]
  },
  {
   "cell_type": "code",
   "execution_count": null,
   "metadata": {},
   "outputs": [],
   "source": [
    "test_df.shape"
   ]
  },
  {
   "cell_type": "markdown",
   "metadata": {},
   "source": [
    "Remember all of the EDA that you've been learning about?  Now is a perfect time for it!\n",
    "- Look at distributions of numerical variables to see the shape of the data and detect outliers.\n",
    "- Scatterplots of a numerical variable and the target go a long way to show correlations.\n",
    "- A heatmap will help detect highly correlated features, and we don't want these.\n",
    "- Is there any overlap in any of the features? (redundant information, like number of this or that room...)"
   ]
  },
  {
   "cell_type": "code",
   "execution_count": null,
   "metadata": {},
   "outputs": [],
   "source": [
    "# perform EDA here"
   ]
  },
  {
   "cell_type": "code",
   "execution_count": null,
   "metadata": {},
   "outputs": [],
   "source": [
    "cols_to_int = ['description.year_built', 'description.baths_3qtr', 'description.baths_full', 'description.baths_half',\n",
    "               'description.lot_sqft', 'description.sqft', 'description.baths', 'description.garage', 'description.stories',\n",
    "               'description.beds', 'description.sold_price']\n",
    "train_df[cols_to_int] = train_df[cols_to_int].astype(int)\n",
    "test_df[cols_to_int] = test_df[cols_to_int].astype(int)\n"
   ]
  },
  {
   "cell_type": "code",
   "execution_count": null,
   "metadata": {},
   "outputs": [],
   "source": [
    "import seaborn as sns\n",
    "import matplotlib.pyplot as plt\n",
    "\n",
    "int_columns = [col for col in train_df.columns if train_df[col].dtype == int]\n",
    "hist_columns = ['description.year_built', 'description.sold_price', 'description.lot_sqft', 'description.sqft']\n",
    "binary_columns = [col for col in int_columns if train_df[col].max() == 1]\n",
    "int_columns = [col for col in int_columns if col not in hist_columns and col not in binary_columns]\n",
    "float_cols = [col for col in train_df.columns if train_df[col].dtype == float]\n",
    "for col in float_cols:\n",
    "    hist_columns.append(col)\n",
    "\n",
    "for col in binary_columns:\n",
    "    print(f\"Column: {col}, Proportion: {round(train_df[col].sum()/len(train_df),2)}\")\n",
    "\n",
    "for col in int_columns:\n",
    "    plt.figure(figsize=(8, 6))\n",
    "    sns.countplot(data=train_df, x=col)\n",
    "    plt.title(f'Value Counts for {col}')\n",
    "    plt.show()"
   ]
  },
  {
   "cell_type": "code",
   "execution_count": null,
   "metadata": {},
   "outputs": [],
   "source": [
    "hist_columns"
   ]
  },
  {
   "cell_type": "code",
   "execution_count": null,
   "metadata": {},
   "outputs": [],
   "source": [
    "plt.figure(figsize=(8, 6))\n",
    "sns.histplot(data=train_df, x='description.year_built', kde=True)\n",
    "plt.title(f'Histogram for description.year_built')\n",
    "plt.ylabel('Frequency')\n",
    "plt.show()"
   ]
  },
  {
   "cell_type": "code",
   "execution_count": null,
   "metadata": {},
   "outputs": [],
   "source": [
    "plt.figure(figsize=(8, 6))\n",
    "sns.histplot(data=train_df, x='description.sold_price', kde=True)\n",
    "plt.title(f'Histogram for description.sold_price')\n",
    "plt.ylabel('Frequency')\n",
    "plt.show()"
   ]
  },
  {
   "cell_type": "code",
   "execution_count": null,
   "metadata": {},
   "outputs": [],
   "source": [
    "train_df['description.sold_price'] = np.log(train_df['description.sold_price'])\n",
    "test_df['description.sold_price'] = np.log(test_df['description.sold_price'])\n",
    "plt.figure(figsize=(8, 6))\n",
    "sns.histplot(data=train_df, x= 'description.sold_price', kde=True)\n",
    "plt.title(f'Histogram for log description.sold_price')\n",
    "plt.ylabel('Frequency')\n",
    "plt.show()"
   ]
  },
  {
   "cell_type": "code",
   "execution_count": null,
   "metadata": {},
   "outputs": [],
   "source": [
    "plt.figure(figsize=(8, 6))\n",
    "sns.histplot(data=train_df, x='description.sqft', kde=True)\n",
    "plt.title(f'description.sqft')\n",
    "plt.ylabel('Frequency')\n",
    "plt.show()"
   ]
  },
  {
   "cell_type": "code",
   "execution_count": null,
   "metadata": {},
   "outputs": [],
   "source": [
    "train_df['description.sqft'] = np.log(train_df['description.sqft'])\n",
    "test_df['description.sqft'] = np.log(test_df['description.sqft'])\n",
    "plt.figure(figsize=(8, 6))\n",
    "sns.histplot(data=train_df, x='description.sqft', kde=True)\n",
    "plt.title(f'log description.sqft')\n",
    "plt.ylabel('Frequency')\n",
    "plt.show()"
   ]
  },
  {
   "cell_type": "code",
   "execution_count": null,
   "metadata": {},
   "outputs": [],
   "source": [
    "filtered_data = train_df[train_df['description.lot_sqft'] <= 1e5]\n",
    "plt.figure(figsize=(8, 6))\n",
    "sns.histplot(data=filtered_data, x='description.lot_sqft', kde=True)\n",
    "plt.title(f'Histogram for description.lot_sqft')\n",
    "plt.ylabel('Frequency')\n",
    "plt.show()"
   ]
  },
  {
   "cell_type": "code",
   "execution_count": null,
   "metadata": {},
   "outputs": [],
   "source": [
    "train_df['description.lot_sqft'] = np.log(train_df['description.lot_sqft'])\n",
    "test_df['description.lot_sqft'] = np.log(test_df['description.lot_sqft'])\n",
    "\n",
    "plt.figure(figsize=(8, 6))\n",
    "sns.histplot(data=train_df, x='description.lot_sqft', kde=True)\n",
    "plt.title(f'Histogram for description.lot_sqft')\n",
    "plt.ylabel('Frequency')\n",
    "plt.show()"
   ]
  },
  {
   "cell_type": "code",
   "execution_count": null,
   "metadata": {},
   "outputs": [],
   "source": [
    "plt.figure(figsize=(8, 6))\n",
    "sns.histplot(data=train_df, x='location.address.coordinate.lon', kde=True)\n",
    "plt.title(f'location.address.coordinate.lon')\n",
    "plt.ylabel('Frequency')\n",
    "plt.show()"
   ]
  },
  {
   "cell_type": "code",
   "execution_count": null,
   "metadata": {},
   "outputs": [],
   "source": [
    "plt.figure(figsize=(8, 6))\n",
    "sns.histplot(data=train_df, x='location.address.coordinate.lat', kde=True)\n",
    "plt.title(f'location.address.coordinate.lat')\n",
    "plt.ylabel('Frequency')\n",
    "plt.show()"
   ]
  },
  {
   "cell_type": "code",
   "execution_count": null,
   "metadata": {},
   "outputs": [],
   "source": [
    "plt.figure(figsize=(8, 6))\n",
    "sns.histplot(data=train_df, x='city_mean_sold_price', kde=True, bins = 50)\n",
    "plt.title(f'city_mean_sold_price')\n",
    "plt.ylabel('Frequency')\n",
    "plt.show()"
   ]
  },
  {
   "cell_type": "code",
   "execution_count": null,
   "metadata": {},
   "outputs": [],
   "source": [
    "plt.figure(figsize=(8, 6))\n",
    "sns.histplot(data=train_df, x='state_mean_sold_price', kde=True, bins = 50)\n",
    "plt.title(f'state_mean_sold_price')\n",
    "plt.ylabel('Frequency')\n",
    "plt.show()"
   ]
  },
  {
   "cell_type": "code",
   "execution_count": null,
   "metadata": {},
   "outputs": [],
   "source": [
    "plt.figure(figsize=(8, 6))\n",
    "sns.histplot(data=train_df, x='county_mean_sold_price', kde=True, bins = 50)\n",
    "plt.title(f'county_mean_sold_price')\n",
    "plt.ylabel('Frequency')\n",
    "plt.show()"
   ]
  },
  {
   "cell_type": "code",
   "execution_count": null,
   "metadata": {},
   "outputs": [],
   "source": [
    "train_df.columns"
   ]
  },
  {
   "cell_type": "code",
   "execution_count": null,
   "metadata": {},
   "outputs": [],
   "source": [
    "dropcols = ['location.address.state_code', 'location.county.name', 'county_mean_sold_price', 'state_mean_sold_price']"
   ]
  },
  {
   "cell_type": "code",
   "execution_count": null,
   "metadata": {},
   "outputs": [],
   "source": [
    "train_df, test_df = train_df.drop(columns = dropcols), test_df.drop(columns = dropcols)"
   ]
  },
  {
   "cell_type": "code",
   "execution_count": null,
   "metadata": {},
   "outputs": [],
   "source": [
    "spread_cols = [col for col in train_df.columns if train_df[col].nunique() >= 10]\n",
    "spread_cols.remove('description.sold_price')\n",
    "spread_cols.remove('location.address.city')\n",
    "\n",
    "for col in spread_cols:\n",
    "    plt.figure(figsize=(8, 6))\n",
    "    sns.scatterplot(data=train_df, x=col, y='description.sold_price')\n",
    "    plt.title(f'Scatter plot of {col} against description.sold_price')\n",
    "    plt.xlabel(col)\n",
    "    plt.ylabel('description.sold_price')\n",
    "    plt.show()"
   ]
  },
  {
   "cell_type": "code",
   "execution_count": null,
   "metadata": {},
   "outputs": [],
   "source": [
    "[col for col in train_df.columns if train_df[col].dtype == 'object']"
   ]
  },
  {
   "cell_type": "code",
   "execution_count": null,
   "metadata": {},
   "outputs": [],
   "source": [
    "train_df.columns"
   ]
  },
  {
   "cell_type": "code",
   "execution_count": null,
   "metadata": {},
   "outputs": [],
   "source": [
    "pairwise_correlations = {}\n",
    "\n",
    "columns_to_correlate = train_df.columns.to_list()\n",
    "columns_to_correlate.remove('description.sold_price')\n",
    "columns_to_correlate.remove('location.address.city')\n",
    "\n",
    "# Compute pairwise correlations\n",
    "for i in range(len(columns_to_correlate)):\n",
    "    col1 = columns_to_correlate[i]\n",
    "    for j in range(i + 1, len(columns_to_correlate)):\n",
    "        col2 = columns_to_correlate[j]\n",
    "        correlation = train_df[col1].corr(train_df[col2])\n",
    "        pairwise_correlations[(col1, col2)] = correlation"
   ]
  },
  {
   "cell_type": "code",
   "execution_count": null,
   "metadata": {},
   "outputs": [],
   "source": [
    "high_corr = {}\n",
    "for key in pairwise_correlations.keys():\n",
    "    if np.abs(pairwise_correlations[key]) >= 0.7:\n",
    "        high_corr[key] = pairwise_correlations[key]"
   ]
  },
  {
   "cell_type": "code",
   "execution_count": null,
   "metadata": {},
   "outputs": [],
   "source": [
    "high_corr"
   ]
  },
  {
   "cell_type": "code",
   "execution_count": null,
   "metadata": {},
   "outputs": [],
   "source": [
    "drop_cols = ['description.baths_full', 'garage_1_or_more', 'garage_2_or_more', 'two_or_more_stories',\n",
    "              'single_story', 'floor_plan', 'description.sub_type_condo', 'description.sub_type_townhouse', 'ranch']\n",
    "\n",
    "train_df = train_df.drop(columns = drop_cols)\n",
    "test_df = test_df.drop(columns = drop_cols)"
   ]
  },
  {
   "cell_type": "code",
   "execution_count": null,
   "metadata": {},
   "outputs": [],
   "source": [
    "columns_to_correlate = train_df.columns.to_list()\n",
    "columns_to_correlate.remove('description.sold_price')\n",
    "columns_to_correlate.remove('location.address.city')\n",
    "\n",
    "pairwise_correlations = {}\n",
    "\n",
    "for i in range(len(columns_to_correlate)):\n",
    "    col1 = columns_to_correlate[i]\n",
    "    for j in range(i + 1, len(columns_to_correlate)):\n",
    "        col2 = columns_to_correlate[j]\n",
    "        correlation = train_df[col1].corr(train_df[col2])\n",
    "        if np.abs(correlation) >= 0.7:\n",
    "            pairwise_correlations[(col1, col2)] = correlation\n",
    "\n",
    "pairwise_correlations\n"
   ]
  },
  {
   "cell_type": "code",
   "execution_count": null,
   "metadata": {},
   "outputs": [],
   "source": [
    "train_df.shape"
   ]
  },
  {
   "cell_type": "code",
   "execution_count": null,
   "metadata": {},
   "outputs": [],
   "source": [
    "train_df = train_df[train_df['description.lot_sqft'] != -np.inf]\n",
    "test_df = test_df[test_df['description.lot_sqft'] != -np.inf]"
   ]
  },
  {
   "cell_type": "code",
   "execution_count": null,
   "metadata": {},
   "outputs": [],
   "source": [
    "cities = train_df['location.address.city']"
   ]
  },
  {
   "cell_type": "code",
   "execution_count": null,
   "metadata": {},
   "outputs": [],
   "source": [
    "drop_cols = ['description.baths_3qtr', 'description.baths_half', 'carport', 'garage_3_or_more', 'vaulted_ceiling',\n",
    "             'views', 'city_view', 'location.address.city']"
   ]
  },
  {
   "cell_type": "code",
   "execution_count": null,
   "metadata": {},
   "outputs": [],
   "source": [
    "train_df = train_df.drop(columns = drop_cols)\n",
    "test_df = test_df.drop(columns = drop_cols)"
   ]
  },
  {
   "cell_type": "code",
   "execution_count": null,
   "metadata": {},
   "outputs": [],
   "source": [
    "train_df.shape"
   ]
  },
  {
   "cell_type": "markdown",
   "metadata": {},
   "source": [
    "Now is a great time to scale the data and save it once it's preprocessed."
   ]
  },
  {
   "cell_type": "code",
   "execution_count": null,
   "metadata": {},
   "outputs": [],
   "source": [
    "# also save maps of mean city df\n",
    "\n",
    "train_df.dtypes.value_counts()\n",
    "\n",
    "X_train = train_df.drop(columns = 'description.sold_price')\n",
    "y_train = train_df['description.sold_price']\n",
    "\n",
    "X_test = test_df.drop(columns = 'description.sold_price')\n",
    "y_test = test_df['description.sold_price']\n",
    "\n",
    "from sklearn.preprocessing import MinMaxScaler\n",
    "\n",
    "scaler = MinMaxScaler()\n",
    "\n",
    "X_train = pd.DataFrame(scaler.fit_transform(X_train), columns = X_train.columns)\n",
    "X_test = pd.DataFrame(scaler.fit_transform(X_test), columns = X_test.columns)"
   ]
  },
  {
   "cell_type": "code",
   "execution_count": null,
   "metadata": {},
   "outputs": [],
   "source": [
    "X_train.to_csv('../data/X_train.csv', index=False)\n",
    "X_test.to_csv('../data/X_test.csv', index=False)\n",
    "y_test.to_csv('../data/y_test.csv', index=False)\n",
    "y_train.to_csv('../data/y_train.csv', index=False)\n",
    "city_mean_df.to_csv('../data/city_means.csv', index=False)\n",
    "cities.to_csv('../data/cities.csv', index = False)"
   ]
  },
  {
   "cell_type": "code",
   "execution_count": null,
   "metadata": {},
   "outputs": [],
   "source": []
  },
  {
   "cell_type": "code",
   "execution_count": null,
   "metadata": {},
   "outputs": [],
   "source": []
  }
 ],
 "metadata": {
  "kernelspec": {
   "display_name": "Python 3",
   "language": "python",
   "name": "python3"
  },
  "language_info": {
   "codemirror_mode": {
    "name": "ipython",
    "version": 3
   },
   "file_extension": ".py",
   "mimetype": "text/x-python",
   "name": "python",
   "nbconvert_exporter": "python",
   "pygments_lexer": "ipython3",
   "version": "3.10.6"
  }
 },
 "nbformat": 4,
 "nbformat_minor": 2
}
