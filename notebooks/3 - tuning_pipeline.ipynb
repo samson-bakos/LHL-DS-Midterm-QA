{
 "cells": [
  {
   "cell_type": "markdown",
   "metadata": {},
   "source": [
    "## Hyperparameter Tuning"
   ]
  },
  {
   "cell_type": "code",
   "execution_count": 1,
   "metadata": {},
   "outputs": [],
   "source": [
    "import pandas as pd\n",
    "import numpy as np\n",
    "import itertools\n",
    "import pickle\n",
    "\n",
    "from sklearn.model_selection import KFold\n",
    "from sklearn.metrics import mean_absolute_error\n",
    "from sklearn.preprocessing import FunctionTransformer\n",
    "from sklearn.pipeline import Pipeline\n",
    "\n",
    "from xgboost import XGBRegressor\n",
    "\n",
    "from functions_variables import *\n",
    "\n",
    "\n",
    "cities = pd.read_csv('../data/processed/cities.csv')\n",
    "X_train = pd.read_csv('../data/processed/X_train.csv')\n",
    "y_train = pd.read_csv('../data/processed/y_train.csv')\n",
    "X_test = pd.read_csv('../data/processed/X_test.csv')\n",
    "y_test = pd.read_csv('../data/processed/y_test.csv')\n",
    "\n"
   ]
  },
  {
   "cell_type": "markdown",
   "metadata": {},
   "source": [
    "Setup for cross validation\n",
    "We need the cities label, but NOT the computed price from before"
   ]
  },
  {
   "cell_type": "code",
   "execution_count": 2,
   "metadata": {},
   "outputs": [],
   "source": [
    "CV_df = pd.concat([cities, X_train, y_train], axis = 1)\n",
    "CV_df.drop(columns= 'description.sold_price_city_mean', inplace= True)"
   ]
  },
  {
   "cell_type": "markdown",
   "metadata": {},
   "source": [
    "Custom CV Folds"
   ]
  },
  {
   "cell_type": "code",
   "execution_count": 3,
   "metadata": {},
   "outputs": [],
   "source": [
    "def custom_cross_validation(train_df, n_splits=5):\n",
    "    '''creates n_splits sets of training and validation folds\n",
    "\n",
    "    Args:\n",
    "      training_data: the dataframe of features and target to be divided into folds\n",
    "      n_splits: the number of sets of folds to be created\n",
    "\n",
    "    Returns:\n",
    "      A tuple of lists, where the first index is a list of the training folds, \n",
    "      and the second the corresponding validation fold\n",
    "\n",
    "    Example:\n",
    "        >>> output = custom_cross_validation(train_df, n_splits = 10)\n",
    "        >>> output[0][0] # The first training fold\n",
    "        >>> output[1][0] # The first validation fold\n",
    "        >>> output[0][1] # The second training fold\n",
    "        >>> output[1][1] # The second validation fold... etc.\n",
    "    '''\n",
    "    \n",
    "    kf = KFold(n_splits=n_splits, shuffle=True, random_state=42)\n",
    "    train_df_copy = train_df.copy()\n",
    "    \n",
    "    training_folds = []\n",
    "    validation_folds = []\n",
    "    \n",
    "    for train_index, val_index in kf.split(train_df_copy):\n",
    "        train_fold, val_fold = train_df_copy.iloc[train_index], train_df_copy.iloc[val_index]\n",
    "\n",
    "        city_mean_train = train_fold.groupby('location.address.city')['description.sold_price'].mean()\n",
    "\n",
    "        # Merge mean price into both training and validation folds\n",
    "        train_fold = train_fold.merge(city_mean_train, left_on='location.address.city', right_index=True, how='left', suffixes=('', '_city_mean'))\n",
    "        val_fold = val_fold.merge(city_mean_train, left_on='location.address.city', right_index=True, how='left', suffixes=('', '_city_mean'))\n",
    "\n",
    "        # Fill missing values in both folds with global mean sold price\n",
    "        global_mean = train_df_copy['description.sold_price'].mean()\n",
    "        train_fold['description.sold_price_city_mean'] = train_fold['description.sold_price_city_mean'].fillna(global_mean)\n",
    "        val_fold['description.sold_price_city_mean'] = val_fold['description.sold_price_city_mean'].fillna(global_mean)\n",
    "\n",
    "        # Drop the city column from both folds\n",
    "        train_fold = train_fold.drop(columns=['location.address.city'])\n",
    "        val_fold = val_fold.drop(columns=['location.address.city'])\n",
    "\n",
    "        training_folds.append(train_fold)\n",
    "        validation_folds.append(val_fold)\n",
    "\n",
    "    return training_folds, validation_folds"
   ]
  },
  {
   "cell_type": "code",
   "execution_count": 4,
   "metadata": {},
   "outputs": [],
   "source": [
    "training_folds, validation_folds = custom_cross_validation(CV_df)"
   ]
  },
  {
   "cell_type": "markdown",
   "metadata": {},
   "source": [
    "Example param grid (for XGBoost) \n",
    "- Can use default for some of these and/or use more values in others\n",
    "- I picked a few important parameters for XGBoost, but there are alot in reality, and we might consider tuning them one at a time, or using a complex approach (i.e. Bayesian), but this will do for now. "
   ]
  },
  {
   "cell_type": "code",
   "execution_count": 5,
   "metadata": {},
   "outputs": [],
   "source": [
    "param_grid_xgb = {\n",
    "    'max_depth': [3, 5, 7, 10, 15, 20, 25],  # control complexity (depth of trees)\n",
    "    'gamma': [0, 1, 3, 5, 7, 10],  # minimum loss reduction required to make a split\n",
    "    'learning_rate': [0.01, 0.05, 0.1],  # step size shrinkage used to prevent overfitting\n",
    "}\n"
   ]
  },
  {
   "cell_type": "markdown",
   "metadata": {},
   "source": [
    "Check to make sure we didn't mess anything up"
   ]
  },
  {
   "cell_type": "code",
   "execution_count": 6,
   "metadata": {},
   "outputs": [
    {
     "name": "stdout",
     "output_type": "stream",
     "text": [
      "Training fold 1 does not contain any NaN values.\n",
      "Training fold 2 does not contain any NaN values.\n",
      "Training fold 3 does not contain any NaN values.\n",
      "Training fold 4 does not contain any NaN values.\n",
      "Training fold 5 does not contain any NaN values.\n"
     ]
    }
   ],
   "source": [
    "for i, train_fold in enumerate(training_folds):\n",
    "    nan_indices = train_fold.isnull().any(axis=1)\n",
    "    if nan_indices.any():\n",
    "        print(f\"Training fold {i+1} contains NaN values.\")\n",
    "        print(train_fold[nan_indices])\n",
    "    else:\n",
    "        print(f\"Training fold {i+1} does not contain any NaN values.\")"
   ]
  },
  {
   "cell_type": "markdown",
   "metadata": {},
   "source": [
    "Setup a custom hyperparameter search"
   ]
  },
  {
   "cell_type": "code",
   "execution_count": 7,
   "metadata": {},
   "outputs": [],
   "source": [
    "def hyperparameter_search(training_folds, validation_folds, param_grid):\n",
    "    '''outputs the best combination of hyperparameter settings in the param grid, \n",
    "    given the training and validation folds\n",
    "\n",
    "    Args:\n",
    "      training_folds: the list of training fold dataframes\n",
    "      validation_folds: the list of validation fold dataframes\n",
    "      param_grid: the dictionary of possible hyperparameter values for the chosen model\n",
    "\n",
    "    Returns:\n",
    "      A list of the best hyperparameter settings based on the chosen metric\n",
    "\n",
    "    Example:\n",
    "        >>> param_grid = {\n",
    "          'max_depth': [None, 10, 20, 30],\n",
    "          'min_samples_split': [2, 5, 10],\n",
    "          'min_samples_leaf': [1, 2, 4],\n",
    "          'max_features': ['sqrt', 'log2']} # for random forest\n",
    "        >>> hyperparameter_search(output[0], output[1], param_grid = param_grid) \n",
    "        # assuming 'ouput' is the output of custom_cross_validation()\n",
    "        [20, 5, 2, 'log2'] # hyperparams in order\n",
    "    '''\n",
    "    \n",
    "    all_r2_scores = []\n",
    "    all_best_params_list = []\n",
    "\n",
    "    for params in itertools.product(*param_grid.values()):\n",
    "        r2_scores = []\n",
    "        best_params_list = []\n",
    "\n",
    "        for train_fold, val_fold in zip(training_folds, validation_folds):\n",
    "            rf = XGBRegressor(**dict(zip(param_grid.keys(), params)))\n",
    "\n",
    "            X_train_fold = train_fold.drop(columns=['description.sold_price'])\n",
    "            y_train_fold = train_fold['description.sold_price']\n",
    "            X_val_fold = val_fold.drop(columns=['description.sold_price'])\n",
    "            y_val_fold = val_fold['description.sold_price']\n",
    "\n",
    "            rf.fit(X_train_fold, y_train_fold)\n",
    "\n",
    "            r2_score = rf.score(X_val_fold, y_val_fold)\n",
    "\n",
    "            r2_scores.append(r2_score)\n",
    "            best_params_list.append(params)\n",
    "\n",
    "        all_r2_scores.append(r2_scores)\n",
    "        all_best_params_list.append(best_params_list)\n",
    "\n",
    "    avg_r2_scores = np.mean(all_r2_scores, axis=1)\n",
    "    best_params_idx = np.argmax(avg_r2_scores)\n",
    "    best_params = all_best_params_list[best_params_idx][0]  \n",
    "\n",
    "    return avg_r2_scores, best_params\n"
   ]
  },
  {
   "cell_type": "code",
   "execution_count": 8,
   "metadata": {},
   "outputs": [],
   "source": [
    "avg_r2_scores, best_params = hyperparameter_search(training_folds, validation_folds, param_grid_xgb)"
   ]
  },
  {
   "cell_type": "code",
   "execution_count": 9,
   "metadata": {},
   "outputs": [
    {
     "data": {
      "text/plain": [
       "(10, 0, 0.1)"
      ]
     },
     "execution_count": 9,
     "metadata": {},
     "output_type": "execute_result"
    }
   ],
   "source": [
    "best_params"
   ]
  },
  {
   "cell_type": "markdown",
   "metadata": {},
   "source": [
    "Refit our model on the original full trainset, using the best parameters"
   ]
  },
  {
   "cell_type": "code",
   "execution_count": 10,
   "metadata": {},
   "outputs": [
    {
     "name": "stdout",
     "output_type": "stream",
     "text": [
      "Tuned R2 Score:  0.9940429437935966\n",
      "Tuned MAE:  3756.1948776463046\n"
     ]
    }
   ],
   "source": [
    "best_model = XGBRegressor(max_depth= 10, gamma = 0, learning_rate= 0.1).fit(X_train, np.array(y_train).ravel())\n",
    "\n",
    "y_pred = best_model.predict(X_test)\n",
    "mae = mean_absolute_error(np.exp(y_test), np.exp(y_pred))\n",
    "\n",
    "print(\"Tuned R2 Score: \", best_model.score(X_test, y_test))\n",
    "print(\"Tuned MAE: \", mae)\n"
   ]
  },
  {
   "cell_type": "markdown",
   "metadata": {},
   "source": [
    "This is the score for our final model that we would report.\n",
    "\n",
    "Lets save the model"
   ]
  },
  {
   "cell_type": "code",
   "execution_count": 11,
   "metadata": {},
   "outputs": [],
   "source": [
    "with open('../models/tuned_model.pkl', 'wb') as f:\n",
    "    pickle.dump(best_model, f)"
   ]
  },
  {
   "cell_type": "markdown",
   "metadata": {},
   "source": [
    "## Building a Pipeline"
   ]
  },
  {
   "cell_type": "markdown",
   "metadata": {},
   "source": [
    "Function arguments"
   ]
  },
  {
   "cell_type": "code",
   "execution_count": 12,
   "metadata": {},
   "outputs": [],
   "source": [
    "import pandas as pd\n",
    "import numpy as np\n",
    "import itertools\n",
    "import pickle\n",
    "\n",
    "from sklearn.model_selection import KFold\n",
    "from sklearn.metrics import mean_absolute_error\n",
    "from sklearn.preprocessing import FunctionTransformer\n",
    "from sklearn.pipeline import Pipeline\n",
    "\n",
    "from xgboost import XGBRegressor\n",
    "\n",
    "from functions_variables import *"
   ]
  },
  {
   "cell_type": "code",
   "execution_count": 13,
   "metadata": {},
   "outputs": [],
   "source": [
    "directory = '../data'\n",
    "train = pd.read_csv('../data/processed/X_train.csv')\n",
    "columns_to_keep = list(train.columns)\n",
    "\n",
    "columns_to_drop_na = ['description.type', 'description.year_built',\n",
    "                      'description.lot_sqft', 'description.sqft', 'location.address.coordinate.lon',\n",
    "                      'location.address.coordinate.lat']\n",
    "\n",
    "columns_fill_values = {\n",
    "    'description.baths_3qtr': 0,\n",
    "    'description.baths_full': 0,\n",
    "    'description.baths_half': 0,\n",
    "    'description.baths': 0,\n",
    "    'description.garage': 0,\n",
    "    'description.beds': 0,\n",
    "    'description.sub_type': 'N/A',\n",
    "    'location.address.city': 'N/A',\n",
    "    'description.stories': 1\n",
    "}\n",
    "\n",
    "columns_to_log = ['description.lot_sqft', 'description.sqft']"
   ]
  },
  {
   "cell_type": "markdown",
   "metadata": {},
   "source": [
    "This is each step of our preprocessing process:\n",
    "- loading the dataframe\n",
    "- encoding tags\n",
    "- dropping/filling NAs\n",
    "- transforming dtypes\n",
    "- adding our mean city prices (computed from our original training data)\n",
    "- log scaling\n",
    "- selecting the correct columns\n",
    "- scaling (with our pretrained scaler)\n",
    "- predict (with our pretrained model)\n",
    "\n",
    "Pipelines expect a class object with `.fit()` and `.transform()` methods. There are two ways to achieve this:\n",
    "- `FunctionTransformer` is a wrapper around a simple function. It encodes this function as the `transform` method of a simple class\n",
    "     - I did this for getting our dataframe from the JSON\n",
    "- `TransformerMixin` provides a base sklearn class we can use. We can 'overwrite' its methods using inheritance (i.e. `class ColumnSelector(TransformerMixin):`). We can then overwrite the `__init__`, `fit` and `transform` method as needed.\n",
    "     - I did this for everything else, its better for more complicated tasks\n",
    "\n",
    "The actual classes are imported from `function_variables.py` \n",
    "\n"
   ]
  },
  {
   "cell_type": "code",
   "execution_count": 14,
   "metadata": {},
   "outputs": [],
   "source": [
    "pipeline = Pipeline([\n",
    "    ('get_dataframe', FunctionTransformer(get_dataframe)),\n",
    "    ('encode_tags', TagsEncoder()),\n",
    "    ('drop_NAs', DropMissingValues(columns=columns_to_drop_na)),\n",
    "    ('fill_NAs', FillMissingValues(fill_values_dict=columns_fill_values) ),\n",
    "    ('transform_types', TypeTransformer()),\n",
    "    ('merge_city_means', MergeAndImputeTransformer('../data/processed/city_means.csv')),\n",
    "    ('log_transform', LogTransform(columns_to_log)),\n",
    "    ('select_columns', ColumnSelector(columns_to_keep)),\n",
    "    ('scale', PretrainedMinMaxScale('../models/scaler.pkl')),\n",
    "    ('predict', PredictionsFromModel('../models/tuned_model.pkl'))\n",
    "])\n",
    "\n",
    "df, pred = pipeline.fit_transform(directory)"
   ]
  },
  {
   "cell_type": "code",
   "execution_count": 15,
   "metadata": {},
   "outputs": [
    {
     "data": {
      "text/plain": [
       "(6354, 63)"
      ]
     },
     "execution_count": 15,
     "metadata": {},
     "output_type": "execute_result"
    }
   ],
   "source": [
    "df.shape"
   ]
  },
  {
   "cell_type": "code",
   "execution_count": 16,
   "metadata": {},
   "outputs": [
    {
     "data": {
      "text/plain": [
       "(6354,)"
      ]
     },
     "execution_count": 16,
     "metadata": {},
     "output_type": "execute_result"
    }
   ],
   "source": [
    "pred.shape"
   ]
  },
  {
   "cell_type": "markdown",
   "metadata": {},
   "source": [
    "#### Save the Final Pipeline\n",
    "\n",
    "This pipeline should be able to take a directory of json data, similar to our original data, and output a cleaned dataframe, and a set of predictions"
   ]
  },
  {
   "cell_type": "code",
   "execution_count": 17,
   "metadata": {},
   "outputs": [],
   "source": [
    "with open('../models/pipeline.pkl', 'wb') as f:\n",
    "    pickle.dump(pipeline, f)"
   ]
  }
 ],
 "metadata": {
  "kernelspec": {
   "display_name": "Python 3",
   "language": "python",
   "name": "python3"
  },
  "language_info": {
   "codemirror_mode": {
    "name": "ipython",
    "version": 3
   },
   "file_extension": ".py",
   "mimetype": "text/x-python",
   "name": "python",
   "nbconvert_exporter": "python",
   "pygments_lexer": "ipython3",
   "version": "3.10.6"
  }
 },
 "nbformat": 4,
 "nbformat_minor": 2
}
